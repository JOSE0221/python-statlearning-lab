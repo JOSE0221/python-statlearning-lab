{
  "cells": [
    {
      "cell_type": "markdown",
      "metadata": {
        "id": "75kmJv70LfUY"
      },
      "source": [
        "# Procesamiento de Lenguaje Natural (NLP)\n",
        "\n"
      ]
    },
    {
      "cell_type": "markdown",
      "metadata": {
        "id": "75mfEJiAKTu6"
      },
      "source": [
        "### Definición"
      ]
    },
    {
      "cell_type": "markdown",
      "metadata": {
        "id": "_L0keaB9KXfI"
      },
      "source": [
        "\n",
        "El Procesamiento de Lenguaje Natural (NLP por sus siglas en inglés, **Natural Language Processing**) es un campo compartido entre Lingüística y la Computación, incluyendo al Aprendizaje Automático (ML).\n",
        "\n",
        "Busca, como su nombre lo dice, aplicar sobre el lenguaje natural con herramientas algorítmicas para extraer información, categorizar, traducir, entre otras tareas con el objetivo de fondo el objetivo es lograr que las computadoras \"comprendan\" el lenguaje,\n",
        "\n",
        "Puede, o no, usar aprendizaje automático: computar las N palabras más frecuentes en un texto por ejemplo, sería un proceso básico de NLP, que no utiliza ML."
      ]
    },
    {
      "cell_type": "markdown",
      "metadata": {
        "id": "kM5HEqEIKUGG"
      },
      "source": [
        "### Tareas Importantes"
      ]
    },
    {
      "cell_type": "markdown",
      "metadata": {
        "id": "qNOzO7EGKUIc"
      },
      "source": [
        "- Traducción de habla a escritura: la conversión de los fonemas en un audio a su representación escrita (grafema)\n",
        "\n",
        "- Clasificación:\n",
        "  - Clasificar oraciones enteras: detectar si un E-mail es spam o no, determinar si una oración es gramaticalmente correcta, análisis de sentimiento, moderación de ofensas, etc.\n",
        "\n",
        "  - Clasificar cada palabra en una oración: identificar los componentes gramaticales (sustantivo, adjetivo, verbo) o las entidades mencionadas (persona, lugar, organización)\n",
        "\n",
        "  - Modelado de Tópicos, usado mucho en *social listening*.\n",
        "\n",
        "- Generación de texto:\n",
        "  - Generar texto: generar copy para publicidades, escribir noticias, conversar, arte, etc.\n",
        "\n",
        "  - Resumen abstractivo / resumen extractivo: Extraer de una respuesta de un texto: responder una pregunta dada en base al contexto\n",
        "\n",
        "  - Traducción: Traducir un texto de un idioma a otro o de un estilo a otro (style transfer)\n",
        "\n",
        "- Agentes de Diálogo: asistentes virtuales, atención al cliente, chatbots orientados a tareas específicas.\n",
        "\n",
        "Los dominios de aplicación de estas tecnologías son innumerables, yendo desde aplicaciones triviales hasta aplicaciones como [*Speech2face*](https://speech2face.github.io/)\n",
        "\n",
        "<center><img src=\"https://speech2face.github.io/images/teaser_side.jpg\" alt=\"Paris\" align=\"center\" width=\"300px\" style=\"text-align:center;\"></center>"
      ]
    },
    {
      "cell_type": "markdown",
      "metadata": {
        "id": "6x8dMANDKbVf"
      },
      "source": [
        "# Métodos tradicionales del NLP\n",
        "\n",
        "En las próximas clases se verá el *estado del arte* basado en Aprendizaje Profundo. Sin embargo, existe un gran repertorio de técnicas más allá de eso. Conocerlas nos servirá para entender esas herramientas, y en muchas ocasiones estas técnicas tradicionales son un buen complemento para preparación y limpieza de datos, o incluso pueden ser la solución deseada si una red neuronal pesada no es conveniente.\n",
        "\n",
        "Las próximas clases se centrarán en redes usando PyTorch. Hoy conoceremos las siguientes técnias y liberías:\n",
        "\n",
        "Herramientas de NLP que veremos:\n",
        " - Expresiones Regulares con `re`\n",
        " - Búsqueda difusa de string con `thefuzz`\n",
        "\n",
        "Procesos de normalización, preprocesamiento:\n",
        " - *Stemming* con `nltk`\n",
        " - *Lemmatización* con `spacy`\n",
        " - *Stop Words*\n",
        "\n",
        "Modos de representación:\n",
        " - Bolsa de Palabras y\n",
        " - TF-IDF `con sklearn`\n"
      ]
    },
    {
      "cell_type": "markdown",
      "metadata": {
        "id": "giOXzHQl57NM"
      },
      "source": [
        "### Tokenización"
      ]
    },
    {
      "cell_type": "markdown",
      "metadata": {
        "id": "AgxW5OKgxvi5"
      },
      "source": [
        "Quizás una de las operaciones más básicas que podemos hacer es contar palabras. Imaginemos un caso extremadamente sencillo relacionado al aprendizaje automático. Pensemos en un **clasificador de positividad / negatividad**.\n",
        "\n",
        "Podríamos usar una regla como:\n",
        "\n",
        "```si \"bueno\" está en el texto, clasificamos como positivo```.\n",
        "\n",
        "Claramente un enfoque tan sencillo va a ser propenso a muchos errores. Iremos viendo cómo aplicarlo y mejorarlo.\n",
        "\n",
        "La operación de separar los textos en unidades básicas (o ***tokens***) la llamamos ***tokenización***."
      ]
    },
    {
      "cell_type": "code",
      "execution_count": 1,
      "metadata": {
        "colab": {
          "base_uri": "https://localhost:8080/"
        },
        "id": "G1T_WHRo37qj",
        "outputId": "7801fe41-7a64-45ff-bb2b-ae9ee2ccfcaf"
      },
      "outputs": [
        {
          "data": {
            "text/plain": [
              "['Usualmente,',\n",
              " 'existe',\n",
              " 'una',\n",
              " 'relación',\n",
              " 'costo-beneficio',\n",
              " 'entre',\n",
              " 'las',\n",
              " 'distintas',\n",
              " 'técnicas.']"
            ]
          },
          "execution_count": 1,
          "metadata": {},
          "output_type": "execute_result"
        }
      ],
      "source": [
        "doc2 = 'Usualmente, existe una relación costo-beneficio entre las distintas técnicas.'\n",
        "doc2.split(' ')"
      ]
    },
    {
      "cell_type": "markdown",
      "metadata": {
        "id": "AdWVd-YUPKz9"
      },
      "source": [
        "Vemos que en castellano, el lenguaje natural (escrito) puede tener distintas fuentes de variaciones:\n",
        " - Mayúsculas\n",
        " - Tildes\n",
        " - Signos ortográficos\n",
        " - Errores de tipeo\n",
        " - Variaciones propias del lenguaje como la conjugación\n",
        " - Artefactos de la escritura informal como \"holaaa\"\n",
        "\n",
        "¿Cómo abordarán esto nuestros algorítmos?\n",
        "\n",
        "Una solución es la **normalización**: con acepción similar aunque distinta a la que usamos en estadística, va a significar transformar a los strings a representaciones iguales.\n",
        "\n",
        "Podemos:\n",
        "- Sacar espacios\n",
        "- Pasar a minúsculas\n",
        "- Quitar tildes"
      ]
    },
    {
      "cell_type": "code",
      "execution_count": 2,
      "metadata": {
        "colab": {
          "base_uri": "https://localhost:8080/"
        },
        "id": "NWCgv4tzP7ww",
        "outputId": "12603f1d-5d12-41ac-8b67-5a5ffc48003f"
      },
      "outputs": [
        {
          "data": {
            "text/plain": [
              "['usualmente,',\n",
              " 'existe',\n",
              " 'una',\n",
              " 'relacion',\n",
              " 'costo-beneficio',\n",
              " 'entre',\n",
              " 'las',\n",
              " 'distintas',\n",
              " 'tecnicas.']"
            ]
          },
          "execution_count": 2,
          "metadata": {},
          "output_type": "execute_result"
        }
      ],
      "source": [
        "import unidecode\n",
        "[unidecode.unidecode(w.lower().strip()) for w in doc2.split(' ')]"
      ]
    },
    {
      "cell_type": "markdown",
      "metadata": {
        "id": "P4YXF4rVQa9-"
      },
      "source": [
        "Otras normalizaciones más sofisticadas serían:\n",
        "- Pasar de plural a singular\n",
        "- Convertir el género de la palabra\n",
        "- Conjugar los verbos en infinitivo\n",
        "\n",
        "¡Es de esperarse que esto requiera métodos más complejos!\n",
        "\n",
        "Vemos que con la tokenización anterior, todavía tenemos palabras con signos de puntuación pegados. Armar nuestro vocabulario es un paso clave para nuestros modelos de *Machine Learning*."
      ]
    },
    {
      "cell_type": "markdown",
      "metadata": {
        "id": "UiTDZ9AIdKvu"
      },
      "source": [
        "## Expresiones regulares\n",
        "\n",
        "\n",
        "También conocido popularmente como **RegEx**. Es un mini lenguaje de programación diseñado para realizar búsquedas en strings. Son extremadamente útiles para:\n",
        "- Extraer datos de distintos tipos de archivos, texto o con otro tipo de codificación.\n",
        "- Web scraping: como veremos en las próximas clases, las regex son un buen método para encontrar la información que se necesita en un sitio web.\n",
        "- Limpieza de datos: herramienta fundamental en el repertorio del científico de datos para limpiar datos quitando caracteres \"ruidosos\", o armando nuevos \"features\" según la presencia o no de cierto texto.\n",
        "\n"
      ]
    },
    {
      "cell_type": "markdown",
      "metadata": {
        "id": "J0ECMOvov8sC"
      },
      "source": [
        "Python utiliza la libreria llamada **re** para todo lo relacionado a regular expressions"
      ]
    },
    {
      "cell_type": "code",
      "execution_count": 3,
      "metadata": {
        "colab": {
          "base_uri": "https://localhost:8080/"
        },
        "id": "h2kqp9jZA0aD",
        "outputId": "0f7d2796-ca11-4d1c-b334-8c48ba247afa"
      },
      "outputs": [
        {
          "name": "stdout",
          "output_type": "stream",
          "text": [
            "['Usualmente', 'existe', 'una', 'relación', 'costo', 'beneficio', 'entre', 'las', 'distintas', 'técnicas']\n"
          ]
        }
      ],
      "source": [
        "import re\n",
        "tokens = re.findall('\\\\w+', doc2)\n",
        "print(tokens)"
      ]
    },
    {
      "cell_type": "markdown",
      "metadata": {
        "id": "ehXCdPH-ontb"
      },
      "source": [
        "## NLTK\n",
        "\n",
        "La librería [Natural Languaje Toolkit](https://www.nltk.org/) es un *de facto* para NLP en Python para diversos idiomas. No solo contiene algoritmos para operaciones de NLP si no también corpus de textos y vocabulario organizado como [WordNet](https://wordnet.princeton.edu)."
      ]
    },
    {
      "cell_type": "code",
      "execution_count": 4,
      "metadata": {
        "colab": {
          "base_uri": "https://localhost:8080/"
        },
        "id": "vS1y1o7eogPg",
        "outputId": "c4253af7-c251-46a8-dcff-1a2be3300c91"
      },
      "outputs": [
        {
          "name": "stderr",
          "output_type": "stream",
          "text": [
            "[nltk_data] Downloading package punkt to /Users/joseperez/nltk_data...\n",
            "[nltk_data]   Package punkt is already up-to-date!\n"
          ]
        },
        {
          "data": {
            "text/plain": [
              "True"
            ]
          },
          "execution_count": 4,
          "metadata": {},
          "output_type": "execute_result"
        }
      ],
      "source": [
        "import nltk\n",
        "nltk.data.path.append(\"/Users/joseperez/nltk_data\")\n",
        "nltk.download('punkt', download_dir=\"/Users/joseperez/nltk_data\")"
      ]
    },
    {
      "cell_type": "code",
      "execution_count": 5,
      "metadata": {
        "colab": {
          "base_uri": "https://localhost:8080/"
        },
        "id": "ttp5WoMJZWGI",
        "outputId": "22f0f701-cf90-4890-fae8-cab24eb87f19"
      },
      "outputs": [
        {
          "name": "stdout",
          "output_type": "stream",
          "text": [
            "['Usualmente', ',', 'existe', 'una', 'relación', 'costo-beneficio', 'entre', 'las', 'distintas', 'técnicas', '.']\n"
          ]
        }
      ],
      "source": [
        "tokens = nltk.word_tokenize(doc2)\n",
        "print(tokens)"
      ]
    },
    {
      "cell_type": "markdown",
      "metadata": {
        "id": "QkHgBvavADgm"
      },
      "source": [
        "## Distancia de edición\n",
        "\n",
        "Para afrontar el \"ruido\" en nuestros textos, tenemos una importante herramienta: la distancia de edición.\n",
        "\n",
        "También llamada Distancia de Levenshtein, nos dice la cantidad mínima de operaciones requerida para llevar de un string al otro. Expresandola de una manera sencilla (y en su versión sin normalizar entre 0 y 1) podemos explicarla así:\n",
        "\n",
        "$$\\mathit{L} = S+D+I$$\n",
        "\n",
        "Donde $S$ = sustitución, $D$ = Eliminación, $I$ = inserción (de un caracter).\n",
        "\n",
        "\n",
        "Como en muchos idiomas la raíz importa más que el resto de la palabra, a veces se usa la métrica Jaro Winkler que pondera más los caracteres iniciales."
      ]
    },
    {
      "cell_type": "code",
      "execution_count": 6,
      "metadata": {},
      "outputs": [
        {
          "name": "stdout",
          "output_type": "stream",
          "text": [
            "Requirement already satisfied: pyjarowinkler in /opt/homebrew/anaconda3/lib/python3.11/site-packages (2.0.0)\n"
          ]
        }
      ],
      "source": [
        "!pip install pyjarowinkler"
      ]
    },
    {
      "cell_type": "code",
      "execution_count": 7,
      "metadata": {
        "id": "qtLW-PVpEhp2"
      },
      "outputs": [],
      "source": [
        "from nltk.metrics import edit_distance\n",
        "from pyjarowinkler import distance as jwdist"
      ]
    },
    {
      "cell_type": "code",
      "execution_count": 8,
      "metadata": {
        "colab": {
          "base_uri": "https://localhost:8080/"
        },
        "id": "z6e8fQ-R57PY",
        "outputId": "07eb5b63-0c6d-44cb-bee0-0696dc43b688"
      },
      "outputs": [
        {
          "name": "stdout",
          "output_type": "stream",
          "text": [
            "'pero' vs 'perro':\n",
            "Distancia Levenshtein -> 1\n",
            "Similitud Jaro Winkler -> 0.07\n",
            "----------------------------------------\n",
            "'pero' vs 'pierdo':\n",
            "Distancia Levenshtein -> 2\n",
            "Similitud Jaro Winkler -> 0.11\n",
            "----------------------------------------\n",
            "'nueve' vs 'mueve':\n",
            "Distancia Levenshtein -> 1\n",
            "Similitud Jaro Winkler -> 0.13\n",
            "----------------------------------------\n",
            "'totalmente' vs 'diferentes':\n",
            "Distancia Levenshtein -> 7\n",
            "Similitud Jaro Winkler -> 0.48\n",
            "----------------------------------------\n",
            "'pero' vs 'basta':\n",
            "Distancia Levenshtein -> 5\n",
            "Similitud Jaro Winkler -> 1.0\n",
            "----------------------------------------\n"
          ]
        }
      ],
      "source": [
        "# Definimos una lista de tuplas de palabras\n",
        "palabras = [(\"pero\", \"perro\"),(\"pero\", \"pierdo\"), (\"nueve\", \"mueve\"),  (\"totalmente\",\"diferentes\"), (\"pero\", \"basta\")]\n",
        "\n",
        "# Calculamos las metricas de distancia pasando cada tupla como argumentos a levdist() y get_jaro_distance()\n",
        "for x,y in palabras:\n",
        "    print(f\"'{x}' vs '{y}':\")\n",
        "    print(\"Distancia Levenshtein ->\", edit_distance(x,y))\n",
        "    print(\"Similitud Jaro Winkler ->\",jwdist.get_jaro_distance(x,y))\n",
        "    print(\"-\"*40)"
      ]
    },
    {
      "cell_type": "markdown",
      "metadata": {
        "id": "44F9E4z9dJCu"
      },
      "source": [
        "## Búsqueda difusa de strings (fuzzy string matching)\n",
        "\n",
        "Técnica muy útil para tener en el repertorio, nos permite encontrar coincidencias que no son exactas. En el caso más sencillo, la búsqueda difusa nos devolverá un puntaje de similitud entre los strings relacionada a las diferencias entre los caracteres. Existen variaciones que consideran cuántas unidades (palabras, tokens) coinciden, que ordenan la oración antes, o que borran repetidos."
      ]
    },
    {
      "cell_type": "code",
      "execution_count": 10,
      "metadata": {},
      "outputs": [
        {
          "name": "stdout",
          "output_type": "stream",
          "text": [
            "Collecting thefuzz\n",
            "  Downloading thefuzz-0.22.1-py3-none-any.whl.metadata (3.9 kB)\n",
            "Collecting rapidfuzz<4.0.0,>=3.0.0 (from thefuzz)\n",
            "  Downloading rapidfuzz-3.12.2-cp311-cp311-macosx_11_0_arm64.whl.metadata (12 kB)\n",
            "Downloading thefuzz-0.22.1-py3-none-any.whl (8.2 kB)\n",
            "Downloading rapidfuzz-3.12.2-cp311-cp311-macosx_11_0_arm64.whl (1.4 MB)\n",
            "\u001b[2K   \u001b[90m━━━━━━━━━━━━━━━━━━━━━━━━━━━━━━━━━━━━━━━━\u001b[0m \u001b[32m1.4/1.4 MB\u001b[0m \u001b[31m8.0 MB/s\u001b[0m eta \u001b[36m0:00:00\u001b[0ma \u001b[36m0:00:01\u001b[0m\n",
            "\u001b[?25hInstalling collected packages: rapidfuzz, thefuzz\n",
            "Successfully installed rapidfuzz-3.12.2 thefuzz-0.22.1\n"
          ]
        }
      ],
      "source": [
        "!pip install thefuzz"
      ]
    },
    {
      "cell_type": "code",
      "execution_count": 11,
      "metadata": {
        "id": "N1H5I_nSpxMe"
      },
      "outputs": [],
      "source": [
        "\n",
        "from thefuzz import process, fuzz"
      ]
    },
    {
      "cell_type": "code",
      "execution_count": 12,
      "metadata": {
        "id": "EaIGqFoPp30R"
      },
      "outputs": [],
      "source": [
        "def get_match(string, lista_strings):\n",
        "    \"\"\"Para buscar coincidencias entre nombre con los nombres\"\"\"\n",
        "    mejor_match, puntaje = process.extractBests(string.strip(), lista_strings, scorer=fuzz.token_set_ratio)[0]\n",
        "    return mejor_match, puntaje"
      ]
    },
    {
      "cell_type": "code",
      "execution_count": 13,
      "metadata": {
        "colab": {
          "base_uri": "https://localhost:8080/"
        },
        "id": "U-brWWiIp9OR",
        "outputId": "b68cf8c5-067d-4540-b173-563217893460"
      },
      "outputs": [
        {
          "data": {
            "text/plain": [
              "('Pedro', 80)"
            ]
          },
          "execution_count": 13,
          "metadata": {},
          "output_type": "execute_result"
        }
      ],
      "source": [
        "# Completar\n",
        "busqueda = 'Pebro'\n",
        "candidatos = 'María, Fabio, Paula, Natu, Pedro, Miguel'.split(', ')\n",
        "\n",
        "get_match(busqueda, candidatos)"
      ]
    },
    {
      "cell_type": "markdown",
      "metadata": {
        "id": "5gU8tfX9bbnb"
      },
      "source": [
        "# Hacia el ML: Representación"
      ]
    },
    {
      "cell_type": "markdown",
      "metadata": {
        "id": "yKcJRgtLny2T"
      },
      "source": [
        "Lo anterior nos puede servir para un sinfín de algorítmos útiles de NLP. En el caso del *Machine Learning* (ML) para usar nuestro modelo (o para cualquier operación vectorial), tendremos que llevar a nuestros datos a una representación matricial. Las maneras de lograr esto se pueden denominar \"**vectorizar**\".\n",
        "\n",
        "\n",
        "En un caso de querer **clasificar artículos** en algunas categorías predeterminadas, una tabla simple de ejemplo se podría ver así:"
      ]
    },
    {
      "cell_type": "code",
      "execution_count": 14,
      "metadata": {
        "cellView": "form",
        "colab": {
          "base_uri": "https://localhost:8080/",
          "height": 319
        },
        "id": "2nRuk1FhbZ0W",
        "outputId": "b5c32466-6796-4c74-beef-6ba5c2fe3c9e"
      },
      "outputs": [
        {
          "data": {
            "image/png": "[encoded data removed]",
            "text/plain": [
              "<Figure size 600x400 with 1 Axes>"
            ]
          },
          "metadata": {},
          "output_type": "display_data"
        }
      ],
      "source": [
        "#@title Matriz de Features\n",
        "import matplotlib.pyplot as plt\n",
        "\n",
        "fig = plt.figure(figsize=(6, 4))\n",
        "ax = fig.add_axes([0, 0, 1, 1])\n",
        "ax.axis('off')\n",
        "ax.axis('equal')\n",
        "\n",
        "# Draw features matrix\n",
        "ax.vlines(range(6), ymin=0, ymax=9, lw=1)\n",
        "ax.hlines(range(10), xmin=0, xmax=5, lw=1)\n",
        "font_prop = dict(size=12, family='monospace')\n",
        "ax.text(-1, -1, \"Matriz de Features ($X$)\", size=14)\n",
        "ax.text(0.1, -0.3, r'n_features $\\longrightarrow$', **font_prop)\n",
        "ax.text(-0.1, 0.1, r'$\\longleftarrow$ n_observaciones', rotation=90,\n",
        "        va='top', ha='right', **font_prop)\n",
        "\n",
        "# Draw labels vector\n",
        "ax.vlines(range(8, 10), ymin=0, ymax=9, lw=1)\n",
        "ax.hlines(range(10), xmin=8, xmax=9, lw=1)\n",
        "ax.text(7, -1, \"Vector Target ($y$)\", size=14)\n",
        "ax.text(7.9, 0.1, r'$\\longleftarrow$ n_observaciones', rotation=90,\n",
        "        va='top', ha='right', **font_prop)\n",
        "\n",
        "ax.set_ylim(10, -2);"
      ]
    },
    {
      "cell_type": "code",
      "execution_count": 15,
      "metadata": {
        "cellView": "form",
        "colab": {
          "base_uri": "https://localhost:8080/",
          "height": 303
        },
        "id": "xiaePbFWYGG0",
        "outputId": "9a136547-9f1b-4acd-e934-f8e8ef295979"
      },
      "outputs": [
        {
          "data": {
            "image/png": "[encoded data removed]",
            "text/plain": [
              "<Figure size 640x480 with 1 Axes>"
            ]
          },
          "metadata": {},
          "output_type": "display_data"
        }
      ],
      "source": [
        "#@title Tabla Ejemplo\n",
        "import numpy as np\n",
        "import matplotlib.pyplot as plt\n",
        "title_text = 'Datos'\n",
        "footer_text = '22 de Agosto, 2022'\n",
        "fig_background_color = 'skyblue'\n",
        "fig_border = 'steelblue'\n",
        "data_ =  [\n",
        "            [         'N Adjetivos', 'N Verbos', 'Largo Total', 'Menciones', 'Categoría'],\n",
        "            [ 'Doc 1',  386, 296,   1331,  17008,  1],\n",
        "            ['Doc 2',  230, 139,   145,   9308, 2],\n",
        "            ['Doc 3',  135,  1552,  2558,  47981, 0],\n",
        "            ['Doc 4',  415,  858,  656,  93263,  1],\n",
        "            ['Doc 5', 361, 1509,  3164,  181380,  2],\n",
        "        ]\n",
        "column_headers = data_.pop(0)\n",
        "row_headers = [x.pop(0) for x in data_]\n",
        "\n",
        "cell_text = []\n",
        "for row in data_:\n",
        "    cell_text.append([f'{x}' for x in row])\n",
        "rcolors = plt.cm.BuPu(np.full(len(row_headers), 0.1))\n",
        "ccolors = plt.cm.BuPu(np.full(len(column_headers), 0.1))\n",
        "plt.figure(linewidth=2,\n",
        "           edgecolor=fig_border,\n",
        "           facecolor=fig_background_color,\n",
        "           tight_layout={'pad':1},\n",
        "           #figsize=(5,3)\n",
        "          )\n",
        "the_table = plt.table(cellText=cell_text,\n",
        "                      rowLabels=row_headers,\n",
        "                      rowColours=rcolors,\n",
        "                      rowLoc='right',\n",
        "                      colColours=ccolors,\n",
        "                      colLabels=column_headers,\n",
        "                      loc='center')\n",
        "the_table.scale(1, 2.5)\n",
        "ax = plt.gca()\n",
        "ax.get_xaxis().set_visible(False)\n",
        "ax.get_yaxis().set_visible(False)\n",
        "plt.box(on=None)\n",
        "plt.suptitle(title_text)\n",
        "plt.figtext(0.95, 0.05, footer_text, horizontalalignment='right', size=10, weight='light')\n",
        "plt.draw()"
      ]
    },
    {
      "cell_type": "markdown",
      "metadata": {
        "id": "jH5wKFXhcJNJ"
      },
      "source": [
        "Para operar sobre la información de texto directamente, el enfoque tradicional más sencillo es la **bolsa de palabras**. Vamos a crearla con sci-kit learn:"
      ]
    },
    {
      "cell_type": "code",
      "execution_count": 16,
      "metadata": {
        "id": "VqfktxZwEO7J"
      },
      "outputs": [],
      "source": [
        "from sklearn.feature_extraction.text import CountVectorizer"
      ]
    },
    {
      "cell_type": "code",
      "execution_count": 17,
      "metadata": {
        "id": "dFU2_FH71kE0"
      },
      "outputs": [],
      "source": [
        "# Instanciamos el CV\n",
        "vec = CountVectorizer()\n",
        "\n",
        "doc1 = 'la matriz de frecuencias otorga información del contenido de un documento'\n",
        "doc2 = 'las palabras que aparecen en un documento reflejan sus tópicos'\n",
        "\n",
        "# Definimos una lista con todos los strings\n",
        "textos = [doc1, doc2]\n",
        "\n",
        "# Ajustamos el CV y transformamos los datos\n",
        "X = vec.fit_transform(textos)"
      ]
    },
    {
      "cell_type": "markdown",
      "metadata": {
        "id": "UgRrQuTCQpWJ"
      },
      "source": [
        "Podemos volcar este resultado en un `DataFrame`. Para obtener el encabezado de las columnas, vamos a utilizar el método `get_feature_names_out()`, propio del vectorizador."
      ]
    },
    {
      "cell_type": "code",
      "execution_count": 18,
      "metadata": {
        "colab": {
          "base_uri": "https://localhost:8080/",
          "height": 112
        },
        "id": "60EnFi-oQpWJ",
        "outputId": "33000989-c2e7-455e-a37b-24ba96bb30fc"
      },
      "outputs": [
        {
          "data": {
            "text/html": [
              "<style type=\"text/css\">\n",
              "#T_01be0_row0_col0, #T_01be0_row0_col4, #T_01be0_row0_col5, #T_01be0_row0_col9, #T_01be0_row0_col12, #T_01be0_row0_col13, #T_01be0_row0_col14, #T_01be0_row0_col15, #T_01be0_row0_col16, #T_01be0_row0_col17, #T_01be0_row1_col1, #T_01be0_row1_col2, #T_01be0_row1_col3, #T_01be0_row1_col4, #T_01be0_row1_col6, #T_01be0_row1_col7, #T_01be0_row1_col8, #T_01be0_row1_col10, #T_01be0_row1_col11, #T_01be0_row1_col17 {\n",
              "  background-color: #fff7fb;\n",
              "  color: #000000;\n",
              "}\n",
              "#T_01be0_row0_col1, #T_01be0_row0_col2, #T_01be0_row0_col3, #T_01be0_row0_col6, #T_01be0_row0_col7, #T_01be0_row0_col8, #T_01be0_row0_col10, #T_01be0_row0_col11, #T_01be0_row1_col0, #T_01be0_row1_col5, #T_01be0_row1_col9, #T_01be0_row1_col12, #T_01be0_row1_col13, #T_01be0_row1_col14, #T_01be0_row1_col15, #T_01be0_row1_col16 {\n",
              "  background-color: #023858;\n",
              "  color: #f1f1f1;\n",
              "}\n",
              "</style>\n",
              "<table id=\"T_01be0\">\n",
              "  <thead>\n",
              "    <tr>\n",
              "      <th class=\"blank level0\" >&nbsp;</th>\n",
              "      <th id=\"T_01be0_level0_col0\" class=\"col_heading level0 col0\" >aparecen</th>\n",
              "      <th id=\"T_01be0_level0_col1\" class=\"col_heading level0 col1\" >contenido</th>\n",
              "      <th id=\"T_01be0_level0_col2\" class=\"col_heading level0 col2\" >de</th>\n",
              "      <th id=\"T_01be0_level0_col3\" class=\"col_heading level0 col3\" >del</th>\n",
              "      <th id=\"T_01be0_level0_col4\" class=\"col_heading level0 col4\" >documento</th>\n",
              "      <th id=\"T_01be0_level0_col5\" class=\"col_heading level0 col5\" >en</th>\n",
              "      <th id=\"T_01be0_level0_col6\" class=\"col_heading level0 col6\" >frecuencias</th>\n",
              "      <th id=\"T_01be0_level0_col7\" class=\"col_heading level0 col7\" >información</th>\n",
              "      <th id=\"T_01be0_level0_col8\" class=\"col_heading level0 col8\" >la</th>\n",
              "      <th id=\"T_01be0_level0_col9\" class=\"col_heading level0 col9\" >las</th>\n",
              "      <th id=\"T_01be0_level0_col10\" class=\"col_heading level0 col10\" >matriz</th>\n",
              "      <th id=\"T_01be0_level0_col11\" class=\"col_heading level0 col11\" >otorga</th>\n",
              "      <th id=\"T_01be0_level0_col12\" class=\"col_heading level0 col12\" >palabras</th>\n",
              "      <th id=\"T_01be0_level0_col13\" class=\"col_heading level0 col13\" >que</th>\n",
              "      <th id=\"T_01be0_level0_col14\" class=\"col_heading level0 col14\" >reflejan</th>\n",
              "      <th id=\"T_01be0_level0_col15\" class=\"col_heading level0 col15\" >sus</th>\n",
              "      <th id=\"T_01be0_level0_col16\" class=\"col_heading level0 col16\" >tópicos</th>\n",
              "      <th id=\"T_01be0_level0_col17\" class=\"col_heading level0 col17\" >un</th>\n",
              "    </tr>\n",
              "  </thead>\n",
              "  <tbody>\n",
              "    <tr>\n",
              "      <th id=\"T_01be0_level0_row0\" class=\"row_heading level0 row0\" >0</th>\n",
              "      <td id=\"T_01be0_row0_col0\" class=\"data row0 col0\" >0</td>\n",
              "      <td id=\"T_01be0_row0_col1\" class=\"data row0 col1\" >1</td>\n",
              "      <td id=\"T_01be0_row0_col2\" class=\"data row0 col2\" >2</td>\n",
              "      <td id=\"T_01be0_row0_col3\" class=\"data row0 col3\" >1</td>\n",
              "      <td id=\"T_01be0_row0_col4\" class=\"data row0 col4\" >1</td>\n",
              "      <td id=\"T_01be0_row0_col5\" class=\"data row0 col5\" >0</td>\n",
              "      <td id=\"T_01be0_row0_col6\" class=\"data row0 col6\" >1</td>\n",
              "      <td id=\"T_01be0_row0_col7\" class=\"data row0 col7\" >1</td>\n",
              "      <td id=\"T_01be0_row0_col8\" class=\"data row0 col8\" >1</td>\n",
              "      <td id=\"T_01be0_row0_col9\" class=\"data row0 col9\" >0</td>\n",
              "      <td id=\"T_01be0_row0_col10\" class=\"data row0 col10\" >1</td>\n",
              "      <td id=\"T_01be0_row0_col11\" class=\"data row0 col11\" >1</td>\n",
              "      <td id=\"T_01be0_row0_col12\" class=\"data row0 col12\" >0</td>\n",
              "      <td id=\"T_01be0_row0_col13\" class=\"data row0 col13\" >0</td>\n",
              "      <td id=\"T_01be0_row0_col14\" class=\"data row0 col14\" >0</td>\n",
              "      <td id=\"T_01be0_row0_col15\" class=\"data row0 col15\" >0</td>\n",
              "      <td id=\"T_01be0_row0_col16\" class=\"data row0 col16\" >0</td>\n",
              "      <td id=\"T_01be0_row0_col17\" class=\"data row0 col17\" >1</td>\n",
              "    </tr>\n",
              "    <tr>\n",
              "      <th id=\"T_01be0_level0_row1\" class=\"row_heading level0 row1\" >1</th>\n",
              "      <td id=\"T_01be0_row1_col0\" class=\"data row1 col0\" >1</td>\n",
              "      <td id=\"T_01be0_row1_col1\" class=\"data row1 col1\" >0</td>\n",
              "      <td id=\"T_01be0_row1_col2\" class=\"data row1 col2\" >0</td>\n",
              "      <td id=\"T_01be0_row1_col3\" class=\"data row1 col3\" >0</td>\n",
              "      <td id=\"T_01be0_row1_col4\" class=\"data row1 col4\" >1</td>\n",
              "      <td id=\"T_01be0_row1_col5\" class=\"data row1 col5\" >1</td>\n",
              "      <td id=\"T_01be0_row1_col6\" class=\"data row1 col6\" >0</td>\n",
              "      <td id=\"T_01be0_row1_col7\" class=\"data row1 col7\" >0</td>\n",
              "      <td id=\"T_01be0_row1_col8\" class=\"data row1 col8\" >0</td>\n",
              "      <td id=\"T_01be0_row1_col9\" class=\"data row1 col9\" >1</td>\n",
              "      <td id=\"T_01be0_row1_col10\" class=\"data row1 col10\" >0</td>\n",
              "      <td id=\"T_01be0_row1_col11\" class=\"data row1 col11\" >0</td>\n",
              "      <td id=\"T_01be0_row1_col12\" class=\"data row1 col12\" >1</td>\n",
              "      <td id=\"T_01be0_row1_col13\" class=\"data row1 col13\" >1</td>\n",
              "      <td id=\"T_01be0_row1_col14\" class=\"data row1 col14\" >1</td>\n",
              "      <td id=\"T_01be0_row1_col15\" class=\"data row1 col15\" >1</td>\n",
              "      <td id=\"T_01be0_row1_col16\" class=\"data row1 col16\" >1</td>\n",
              "      <td id=\"T_01be0_row1_col17\" class=\"data row1 col17\" >1</td>\n",
              "    </tr>\n",
              "  </tbody>\n",
              "</table>\n"
            ],
            "text/plain": [
              "<pandas.io.formats.style.Styler at 0x32092f290>"
            ]
          },
          "execution_count": 18,
          "metadata": {},
          "output_type": "execute_result"
        }
      ],
      "source": [
        "import pandas as pd\n",
        "pd.DataFrame(data = X.todense(), columns = vec.get_feature_names_out()).style.background_gradient()"
      ]
    },
    {
      "cell_type": "markdown",
      "metadata": {
        "id": "cQ5qU9Tu00xh"
      },
      "source": [
        "Una vez que tenemos nuestros datos ordenados, podemos ajustar nuestro modelo de aprendizaje automático aproximadamente así:\n",
        "\n",
        "```python\n",
        "from sklearn.familia_de_modelos import Modelo\n",
        "mi_modelo = Modelo(hiperparámetros)\n",
        "mi_modelo.fit(X, y)\n",
        "\n",
        "predicción = mi_modelo.predict(nuevo_X)\n",
        "```\n",
        "\n",
        "Para ajustar nuestros modelos de machine learning, vamos a tener nuestra matriz de features **X** y un vector **y** (en el caso de ML supervisado), donde **X** tiene la forma ``(n_observaciones, n_variables)`` e **y** ``(n_observaciones)``"
      ]
    },
    {
      "cell_type": "markdown",
      "metadata": {
        "id": "T4aQ4Ohmqcpb"
      },
      "source": [
        "# TF-IDF\n",
        "\n",
        "**Term frequency-inverse document frequency (TF–IDF)** es una técnica alternativa que computa la frecuencia relativa de cada palabra por documento, ponderada por la inversa de su frecuencia relativa a lo largo del *corpus* (colección de documentos). Este método funciona mejor con ciertos algoritmos de clasificación, y es ámpliamente utilizada"
      ]
    },
    {
      "cell_type": "markdown",
      "metadata": {
        "id": "EbLpYY_iY5d0"
      },
      "source": [
        "Vamos a calcular las matrices de ocurrencias de términos usando sklearn.\n",
        "\n",
        "Ámbas clases primero construyen el vocabulario total, y luego:  \n",
        "- **CountVectorizer** nos devuelve la frecuencia absoluta de cada término por cada documento.\n",
        "- [**TF-IDF**](https://en.wikipedia.org/wiki/Tf%E2%80%93idf): calcula la frecuencia de cada término por documento, y normaliza por el total de documentos donde el término aparece.\n",
        "\n",
        "$${tf} (t,d)={\\frac {f_{t,d}}{\\sum _{t'\\in d}{f_{t',d}}}}$$\n",
        "\n",
        "$$\n",
        "idf( t, D ) = log \\frac{ \\text{| } D \\text{ |} }{ 1 + \\text{| } \\{ d \\in D : t \\in d \\} \\text{ |} }\n",
        "$$\n",
        "\n",
        "\n",
        "$$ tfidf( t, d, D ) = tf( t, d ) \\times idf( t, D )\n",
        "$$\n"
      ]
    },
    {
      "cell_type": "code",
      "execution_count": 19,
      "metadata": {
        "colab": {
          "base_uri": "https://localhost:8080/",
          "height": 112
        },
        "id": "dtJtANUnCZ33",
        "outputId": "d6420f64-788b-44e7-a98b-3a2efa1d2d43"
      },
      "outputs": [
        {
          "data": {
            "text/html": [
              "<style type=\"text/css\">\n",
              "#T_a7b1d_row0_col0, #T_a7b1d_row0_col4, #T_a7b1d_row0_col5, #T_a7b1d_row0_col9, #T_a7b1d_row0_col12, #T_a7b1d_row0_col13, #T_a7b1d_row0_col14, #T_a7b1d_row0_col15, #T_a7b1d_row0_col16, #T_a7b1d_row0_col17, #T_a7b1d_row1_col1, #T_a7b1d_row1_col2, #T_a7b1d_row1_col3, #T_a7b1d_row1_col6, #T_a7b1d_row1_col7, #T_a7b1d_row1_col8, #T_a7b1d_row1_col10, #T_a7b1d_row1_col11 {\n",
              "  background-color: #fff7fb;\n",
              "  color: #000000;\n",
              "}\n",
              "#T_a7b1d_row0_col1, #T_a7b1d_row0_col2, #T_a7b1d_row0_col3, #T_a7b1d_row0_col6, #T_a7b1d_row0_col7, #T_a7b1d_row0_col8, #T_a7b1d_row0_col10, #T_a7b1d_row0_col11, #T_a7b1d_row1_col0, #T_a7b1d_row1_col4, #T_a7b1d_row1_col5, #T_a7b1d_row1_col9, #T_a7b1d_row1_col12, #T_a7b1d_row1_col13, #T_a7b1d_row1_col14, #T_a7b1d_row1_col15, #T_a7b1d_row1_col16, #T_a7b1d_row1_col17 {\n",
              "  background-color: #023858;\n",
              "  color: #f1f1f1;\n",
              "}\n",
              "</style>\n",
              "<table id=\"T_a7b1d\">\n",
              "  <thead>\n",
              "    <tr>\n",
              "      <th class=\"blank level0\" >&nbsp;</th>\n",
              "      <th id=\"T_a7b1d_level0_col0\" class=\"col_heading level0 col0\" >aparecen</th>\n",
              "      <th id=\"T_a7b1d_level0_col1\" class=\"col_heading level0 col1\" >contenido</th>\n",
              "      <th id=\"T_a7b1d_level0_col2\" class=\"col_heading level0 col2\" >de</th>\n",
              "      <th id=\"T_a7b1d_level0_col3\" class=\"col_heading level0 col3\" >del</th>\n",
              "      <th id=\"T_a7b1d_level0_col4\" class=\"col_heading level0 col4\" >documento</th>\n",
              "      <th id=\"T_a7b1d_level0_col5\" class=\"col_heading level0 col5\" >en</th>\n",
              "      <th id=\"T_a7b1d_level0_col6\" class=\"col_heading level0 col6\" >frecuencias</th>\n",
              "      <th id=\"T_a7b1d_level0_col7\" class=\"col_heading level0 col7\" >información</th>\n",
              "      <th id=\"T_a7b1d_level0_col8\" class=\"col_heading level0 col8\" >la</th>\n",
              "      <th id=\"T_a7b1d_level0_col9\" class=\"col_heading level0 col9\" >las</th>\n",
              "      <th id=\"T_a7b1d_level0_col10\" class=\"col_heading level0 col10\" >matriz</th>\n",
              "      <th id=\"T_a7b1d_level0_col11\" class=\"col_heading level0 col11\" >otorga</th>\n",
              "      <th id=\"T_a7b1d_level0_col12\" class=\"col_heading level0 col12\" >palabras</th>\n",
              "      <th id=\"T_a7b1d_level0_col13\" class=\"col_heading level0 col13\" >que</th>\n",
              "      <th id=\"T_a7b1d_level0_col14\" class=\"col_heading level0 col14\" >reflejan</th>\n",
              "      <th id=\"T_a7b1d_level0_col15\" class=\"col_heading level0 col15\" >sus</th>\n",
              "      <th id=\"T_a7b1d_level0_col16\" class=\"col_heading level0 col16\" >tópicos</th>\n",
              "      <th id=\"T_a7b1d_level0_col17\" class=\"col_heading level0 col17\" >un</th>\n",
              "    </tr>\n",
              "  </thead>\n",
              "  <tbody>\n",
              "    <tr>\n",
              "      <th id=\"T_a7b1d_level0_row0\" class=\"row_heading level0 row0\" >0</th>\n",
              "      <td id=\"T_a7b1d_row0_col0\" class=\"data row0 col0\" >0.000000</td>\n",
              "      <td id=\"T_a7b1d_row0_col1\" class=\"data row0 col1\" >0.288525</td>\n",
              "      <td id=\"T_a7b1d_row0_col2\" class=\"data row0 col2\" >0.577050</td>\n",
              "      <td id=\"T_a7b1d_row0_col3\" class=\"data row0 col3\" >0.288525</td>\n",
              "      <td id=\"T_a7b1d_row0_col4\" class=\"data row0 col4\" >0.205288</td>\n",
              "      <td id=\"T_a7b1d_row0_col5\" class=\"data row0 col5\" >0.000000</td>\n",
              "      <td id=\"T_a7b1d_row0_col6\" class=\"data row0 col6\" >0.288525</td>\n",
              "      <td id=\"T_a7b1d_row0_col7\" class=\"data row0 col7\" >0.288525</td>\n",
              "      <td id=\"T_a7b1d_row0_col8\" class=\"data row0 col8\" >0.288525</td>\n",
              "      <td id=\"T_a7b1d_row0_col9\" class=\"data row0 col9\" >0.000000</td>\n",
              "      <td id=\"T_a7b1d_row0_col10\" class=\"data row0 col10\" >0.288525</td>\n",
              "      <td id=\"T_a7b1d_row0_col11\" class=\"data row0 col11\" >0.288525</td>\n",
              "      <td id=\"T_a7b1d_row0_col12\" class=\"data row0 col12\" >0.000000</td>\n",
              "      <td id=\"T_a7b1d_row0_col13\" class=\"data row0 col13\" >0.000000</td>\n",
              "      <td id=\"T_a7b1d_row0_col14\" class=\"data row0 col14\" >0.000000</td>\n",
              "      <td id=\"T_a7b1d_row0_col15\" class=\"data row0 col15\" >0.000000</td>\n",
              "      <td id=\"T_a7b1d_row0_col16\" class=\"data row0 col16\" >0.000000</td>\n",
              "      <td id=\"T_a7b1d_row0_col17\" class=\"data row0 col17\" >0.205288</td>\n",
              "    </tr>\n",
              "    <tr>\n",
              "      <th id=\"T_a7b1d_level0_row1\" class=\"row_heading level0 row1\" >1</th>\n",
              "      <td id=\"T_a7b1d_row1_col0\" class=\"data row1 col0\" >0.333102</td>\n",
              "      <td id=\"T_a7b1d_row1_col1\" class=\"data row1 col1\" >0.000000</td>\n",
              "      <td id=\"T_a7b1d_row1_col2\" class=\"data row1 col2\" >0.000000</td>\n",
              "      <td id=\"T_a7b1d_row1_col3\" class=\"data row1 col3\" >0.000000</td>\n",
              "      <td id=\"T_a7b1d_row1_col4\" class=\"data row1 col4\" >0.237005</td>\n",
              "      <td id=\"T_a7b1d_row1_col5\" class=\"data row1 col5\" >0.333102</td>\n",
              "      <td id=\"T_a7b1d_row1_col6\" class=\"data row1 col6\" >0.000000</td>\n",
              "      <td id=\"T_a7b1d_row1_col7\" class=\"data row1 col7\" >0.000000</td>\n",
              "      <td id=\"T_a7b1d_row1_col8\" class=\"data row1 col8\" >0.000000</td>\n",
              "      <td id=\"T_a7b1d_row1_col9\" class=\"data row1 col9\" >0.333102</td>\n",
              "      <td id=\"T_a7b1d_row1_col10\" class=\"data row1 col10\" >0.000000</td>\n",
              "      <td id=\"T_a7b1d_row1_col11\" class=\"data row1 col11\" >0.000000</td>\n",
              "      <td id=\"T_a7b1d_row1_col12\" class=\"data row1 col12\" >0.333102</td>\n",
              "      <td id=\"T_a7b1d_row1_col13\" class=\"data row1 col13\" >0.333102</td>\n",
              "      <td id=\"T_a7b1d_row1_col14\" class=\"data row1 col14\" >0.333102</td>\n",
              "      <td id=\"T_a7b1d_row1_col15\" class=\"data row1 col15\" >0.333102</td>\n",
              "      <td id=\"T_a7b1d_row1_col16\" class=\"data row1 col16\" >0.333102</td>\n",
              "      <td id=\"T_a7b1d_row1_col17\" class=\"data row1 col17\" >0.237005</td>\n",
              "    </tr>\n",
              "  </tbody>\n",
              "</table>\n"
            ],
            "text/plain": [
              "<pandas.io.formats.style.Styler at 0x32095b310>"
            ]
          },
          "execution_count": 19,
          "metadata": {},
          "output_type": "execute_result"
        }
      ],
      "source": [
        "from sklearn.feature_extraction.text import TfidfVectorizer\n",
        "vec = TfidfVectorizer()\n",
        "X = vec.fit_transform(textos)\n",
        "pd.DataFrame(data = X.todense(),\n",
        "             columns = vec.get_feature_names_out()).style.background_gradient()"
      ]
    },
    {
      "cell_type": "markdown",
      "metadata": {
        "id": "lDdCuUc-HFVc"
      },
      "source": [
        "## Similitud coseno\n",
        "\n",
        "Recordando rápidamente la métrica de similitud coseno, podemos utilizarla en conjunto con TF-IDF para calcular similitud entre textos!\n",
        "\n",
        "$$sim(\\pmb x, \\pmb y) = \\frac {\\pmb x \\cdot \\pmb y}{||\\pmb x|| \\cdot ||\\pmb y||}$$\n",
        "\n",
        "Con los elementos vistos ya podemos construir el algoritmo de Análisis Semántico Latente, que fue de vanguardia y muy exitoso por muchos años.\n",
        "\n",
        "Para un ejemplo de TF-IDF con similitud coseno, en el contexto de sistemas de recomendación, véase [la última clase de Machine Learning](https://github.com/institutohumai/cursos-python)."
      ]
    },
    {
      "cell_type": "markdown",
      "metadata": {
        "id": "DcAN4Y9v57Oo"
      },
      "source": [
        "## N-gramas\n",
        "\n",
        "Muchas veces la unidad lingüística no es una palabra si no que es una palabra compuesta, ya sea en un nombre (ej. \"La Rioja\") como en palabras compuestas (\"italo-americano\"). Tomando palabras sueltas, esos significados se pierden.\n",
        "Para contemplar esto, se pueden tomar combinaciones de N palabras: **n-gramas**."
      ]
    },
    {
      "cell_type": "code",
      "execution_count": 27,
      "metadata": {},
      "outputs": [
        {
          "name": "stdout",
          "output_type": "stream",
          "text": [
            "Requirement already satisfied: datasets in /opt/homebrew/anaconda3/lib/python3.11/site-packages (3.3.2)\n",
            "Requirement already satisfied: filelock in /opt/homebrew/anaconda3/lib/python3.11/site-packages (from datasets) (3.13.1)\n",
            "Requirement already satisfied: numpy>=1.17 in /opt/homebrew/anaconda3/lib/python3.11/site-packages (from datasets) (1.26.4)\n",
            "Requirement already satisfied: pyarrow>=15.0.0 in /opt/homebrew/anaconda3/lib/python3.11/site-packages (from datasets) (19.0.1)\n",
            "Requirement already satisfied: dill<0.3.9,>=0.3.0 in /opt/homebrew/anaconda3/lib/python3.11/site-packages (from datasets) (0.3.8)\n",
            "Requirement already satisfied: pandas in /opt/homebrew/anaconda3/lib/python3.11/site-packages (from datasets) (2.1.4)\n",
            "Requirement already satisfied: requests>=2.32.2 in /opt/homebrew/anaconda3/lib/python3.11/site-packages (from datasets) (2.32.3)\n",
            "Requirement already satisfied: tqdm>=4.66.3 in /opt/homebrew/anaconda3/lib/python3.11/site-packages (from datasets) (4.67.1)\n",
            "Requirement already satisfied: xxhash in /opt/homebrew/anaconda3/lib/python3.11/site-packages (from datasets) (3.5.0)\n",
            "Requirement already satisfied: multiprocess<0.70.17 in /opt/homebrew/anaconda3/lib/python3.11/site-packages (from datasets) (0.70.16)\n",
            "Requirement already satisfied: fsspec<=2024.12.0,>=2023.1.0 in /opt/homebrew/anaconda3/lib/python3.11/site-packages (from fsspec[http]<=2024.12.0,>=2023.1.0->datasets) (2023.10.0)\n",
            "Requirement already satisfied: aiohttp in /opt/homebrew/anaconda3/lib/python3.11/site-packages (from datasets) (3.9.3)\n",
            "Requirement already satisfied: huggingface-hub>=0.24.0 in /opt/homebrew/anaconda3/lib/python3.11/site-packages (from datasets) (0.29.1)\n",
            "Requirement already satisfied: packaging in /opt/homebrew/anaconda3/lib/python3.11/site-packages (from datasets) (23.1)\n",
            "Requirement already satisfied: pyyaml>=5.1 in /opt/homebrew/anaconda3/lib/python3.11/site-packages (from datasets) (6.0.1)\n",
            "Requirement already satisfied: aiosignal>=1.1.2 in /opt/homebrew/anaconda3/lib/python3.11/site-packages (from aiohttp->datasets) (1.2.0)\n",
            "Requirement already satisfied: attrs>=17.3.0 in /Users/joseperez/.local/lib/python3.11/site-packages (from aiohttp->datasets) (23.2.0)\n",
            "Requirement already satisfied: frozenlist>=1.1.1 in /opt/homebrew/anaconda3/lib/python3.11/site-packages (from aiohttp->datasets) (1.4.0)\n",
            "Requirement already satisfied: multidict<7.0,>=4.5 in /opt/homebrew/anaconda3/lib/python3.11/site-packages (from aiohttp->datasets) (6.0.4)\n",
            "Requirement already satisfied: yarl<2.0,>=1.0 in /opt/homebrew/anaconda3/lib/python3.11/site-packages (from aiohttp->datasets) (1.9.3)\n",
            "Requirement already satisfied: typing-extensions>=3.7.4.3 in /opt/homebrew/anaconda3/lib/python3.11/site-packages (from huggingface-hub>=0.24.0->datasets) (4.9.0)\n",
            "Requirement already satisfied: charset-normalizer<4,>=2 in /opt/homebrew/anaconda3/lib/python3.11/site-packages (from requests>=2.32.2->datasets) (2.0.4)\n",
            "Requirement already satisfied: idna<4,>=2.5 in /opt/homebrew/anaconda3/lib/python3.11/site-packages (from requests>=2.32.2->datasets) (3.4)\n",
            "Requirement already satisfied: urllib3<3,>=1.21.1 in /opt/homebrew/anaconda3/lib/python3.11/site-packages (from requests>=2.32.2->datasets) (2.0.7)\n",
            "Requirement already satisfied: certifi>=2017.4.17 in /opt/homebrew/anaconda3/lib/python3.11/site-packages (from requests>=2.32.2->datasets) (2024.2.2)\n",
            "Requirement already satisfied: python-dateutil>=2.8.2 in /opt/homebrew/anaconda3/lib/python3.11/site-packages (from pandas->datasets) (2.8.2)\n",
            "Requirement already satisfied: pytz>=2020.1 in /opt/homebrew/anaconda3/lib/python3.11/site-packages (from pandas->datasets) (2023.3.post1)\n",
            "Requirement already satisfied: tzdata>=2022.1 in /opt/homebrew/anaconda3/lib/python3.11/site-packages (from pandas->datasets) (2023.3)\n",
            "Requirement already satisfied: six>=1.5 in /opt/homebrew/anaconda3/lib/python3.11/site-packages (from python-dateutil>=2.8.2->pandas->datasets) (1.16.0)\n",
            "Requirement already satisfied: pyarrow in /opt/homebrew/anaconda3/lib/python3.11/site-packages (19.0.1)\n"
          ]
        }
      ],
      "source": [
        "!pip install datasets\n",
        "!pip install pyarrow"
      ]
    },
    {
      "cell_type": "code",
      "execution_count": 28,
      "metadata": {},
      "outputs": [],
      "source": [
        "\n",
        "from thefuzz import process, fuzz"
      ]
    },
    {
      "cell_type": "code",
      "execution_count": 35,
      "metadata": {},
      "outputs": [
        {
          "name": "stdout",
          "output_type": "stream",
          "text": [
            "Loading uy.json...\n",
            "Loading bo.json...\n",
            "Loading pr.json...\n",
            "Loading py.json...\n",
            "Loading pa.json...\n",
            "Loading co.json...\n",
            "Loading cl.json...\n",
            "Loading ni.json...\n",
            "Loading gt.json...\n",
            "Loading br.json...\n",
            "Loading hn.json...\n",
            "Loading ve.json...\n",
            "Loading sv.json...\n",
            "Loading ar.json...\n",
            "Loading cr.json...\n",
            "Loading pe.json...\n",
            "Dataset successfully saved to ../data/cc_news_latam.csv\n"
          ]
        }
      ],
      "source": [
        "import os\n",
        "import pandas as pd\n",
        "\n",
        "# Set the folder path where JSON files are stored\n",
        "data_folder = \"../data\"  # Adjust if needed (one level up from script folder)\n",
        "\n",
        "# Get all JSON files in the data folder\n",
        "json_files = [f for f in os.listdir(data_folder) if f.endswith(\".json\")]\n",
        "\n",
        "# Initialize an empty dataframe\n",
        "data = pd.DataFrame()\n",
        "\n",
        "# Load each JSON file and append to the dataframe\n",
        "for json_file in json_files:\n",
        "    file_path = os.path.join(data_folder, json_file)\n",
        "    print(f\"Loading {json_file}...\")  # Debugging statement\n",
        "    \n",
        "    # Read JSON file into a Pandas DataFrame\n",
        "    df = pd.read_json(file_path)\n",
        "    \n",
        "    # Append to the main dataframe\n",
        "    data = pd.concat([data, df], ignore_index=True)\n",
        "\n",
        "# Drop the \"id\" column if it exists\n",
        "if \"id\" in data.columns:\n",
        "    data = data.drop(\"id\", axis=1)\n",
        "\n",
        "# Reset index\n",
        "data = data.reset_index(drop=True)\n",
        "\n",
        "# Perform downsampling\n",
        "n_min = 1000\n",
        "df_grouped = data.groupby(\"country\")\n",
        "frames_of_groups = [x.sample(n_min) if len(x) > n_min else x for _, x in df_grouped]\n",
        "data = pd.concat(frames_of_groups)\n",
        "\n",
        "# Save final dataset as CSV\n",
        "output_path = \"../data/cc_news_latam.csv\"  # Save it in the same `data` folder\n",
        "data.to_csv(output_path, index=False, encoding=\"utf-8\")\n",
        "\n",
        "print(f\"Dataset successfully saved to {output_path}\")"
      ]
    },
    {
      "cell_type": "code",
      "execution_count": 37,
      "metadata": {},
      "outputs": [],
      "source": [
        "import pandas as pd\n",
        "data = pd.read_csv(\"../data/cc_news_latam.csv\")  # Adjust the path if needed"
      ]
    },
    {
      "cell_type": "code",
      "execution_count": 38,
      "metadata": {},
      "outputs": [
        {
          "name": "stdout",
          "output_type": "stream",
          "text": [
            "Index(['country', 'text'], dtype='object')\n"
          ]
        }
      ],
      "source": [
        "print(data.columns)  # Check column names"
      ]
    },
    {
      "cell_type": "code",
      "execution_count": 39,
      "metadata": {
        "id": "GopqmKYl-I9Q"
      },
      "outputs": [],
      "source": [
        "data['text'] = data['text'].apply(lambda x: x[:1000] if isinstance(x, str) else x)"
      ]
    },
    {
      "cell_type": "code",
      "execution_count": 40,
      "metadata": {
        "colab": {
          "base_uri": "https://localhost:8080/"
        },
        "id": "HB9_s2R-57Oo",
        "outputId": "edf43222-af2d-4db8-e633-d514a121cf2f"
      },
      "outputs": [
        {
          "name": "stdout",
          "output_type": "stream",
          "text": [
            "[[0 0 0 ... 0 1 0]\n",
            " [0 0 0 ... 0 0 0]\n",
            " [0 0 0 ... 0 0 0]\n",
            " ...\n",
            " [0 0 0 ... 0 0 0]\n",
            " [1 1 0 ... 0 0 0]\n",
            " [0 0 0 ... 0 0 0]]\n",
            "['00 de' '00 de la' '00 en' ... 'últimos días' 'últimos meses' 'único que']\n"
          ]
        }
      ],
      "source": [
        "# Definimos una lista con los documentos\n",
        "textos = data['text']\n",
        "\n",
        "# Instanciamos un CountVectorizer con una tupla indicando el rango de los n-gramas a considerar\n",
        "vectorizer = CountVectorizer(ngram_range=(2,3), min_df=20)\n",
        "\n",
        "# Usamos .fit_transform() para ajustar el CV y transformar los datos\n",
        "X = vectorizer.fit_transform(textos)\n",
        "print(X.toarray())\n",
        "\n",
        "# Usando .get_feature_names_out() podemos acceder al indice de palabras\n",
        "print(vectorizer.get_feature_names_out())"
      ]
    },
    {
      "cell_type": "code",
      "execution_count": 41,
      "metadata": {
        "colab": {
          "base_uri": "https://localhost:8080/",
          "height": 306
        },
        "id": "PB69Ub00Dff4",
        "outputId": "2e3bebd3-57d8-482a-8ed1-bbcfc36e0ff8"
      },
      "outputs": [
        {
          "data": {
            "image/png": "[encoded data removed]",
            "text/plain": [
              "<Figure size 640x480 with 1 Axes>"
            ]
          },
          "metadata": {},
          "output_type": "display_data"
        }
      ],
      "source": [
        "pd.DataFrame(X.sum(axis=0).T,\n",
        "            index=vectorizer.get_feature_names_out(),\n",
        "            columns=['freq']).sort_values(by='freq',\n",
        "                                          ascending=False)[:20].plot(kind='bar',title='N Gramas');"
      ]
    },
    {
      "cell_type": "markdown",
      "metadata": {
        "id": "M-yy_LsP57NY"
      },
      "source": [
        "## Stop Words\n",
        "\n"
      ]
    },
    {
      "cell_type": "code",
      "execution_count": 42,
      "metadata": {
        "id": "Fy41qLlo57Na"
      },
      "outputs": [
        {
          "name": "stdout",
          "output_type": "stream",
          "text": [
            "Requirement already satisfied: stop_words in /opt/homebrew/anaconda3/lib/python3.11/site-packages (2018.7.23)\n"
          ]
        }
      ],
      "source": [
        "!pip install stop_words\n",
        "import stop_words\n",
        "# Usamos stop words del español\n",
        "stop_words = stop_words.get_stop_words('es')"
      ]
    },
    {
      "cell_type": "code",
      "execution_count": 43,
      "metadata": {
        "id": "yoTBwJzEcmMx"
      },
      "outputs": [],
      "source": [
        "# Instanciamos un CountVectorizer con una tupla indicando el rango de los n-gramas a considerar\n",
        "vectorizer = CountVectorizer(ngram_range=(2,3), min_df=10, stop_words=stop_words)\n",
        "\n",
        "# Usamos .fit_transform() para ajustar el CV y transformar los datos\n",
        "X = vectorizer.fit_transform(textos)"
      ]
    },
    {
      "cell_type": "code",
      "execution_count": 44,
      "metadata": {
        "colab": {
          "base_uri": "https://localhost:8080/",
          "height": 281
        },
        "id": "-DW9gWIBIy99",
        "outputId": "d0236f81-5be4-4e09-8082-8ac8866a9946"
      },
      "outputs": [
        {
          "data": {
            "image/png": "[encoded data removed]",
            "text/plain": [
              "<Figure size 640x480 with 1 Axes>"
            ]
          },
          "metadata": {},
          "output_type": "display_data"
        }
      ],
      "source": [
        "import matplotlib.pyplot as plt\n",
        "pd.DataFrame(X.sum(axis=0).T,\n",
        "            index=vectorizer.get_feature_names_out(),\n",
        "            columns=['freq']).sort_values(by='freq',\n",
        "                                          ascending=False)[:20].plot(kind='barh',title='N Gramas');"
      ]
    },
    {
      "cell_type": "markdown",
      "metadata": {
        "id": "8rrAXKB757OU"
      },
      "source": [
        "## Stemming"
      ]
    },
    {
      "cell_type": "code",
      "execution_count": 45,
      "metadata": {
        "id": "z_sH6aTC57OW"
      },
      "outputs": [],
      "source": [
        "# Instanciamos SnowballStemmer() de NLTK en español\n",
        "from nltk.stem import SnowballStemmer\n",
        "stemmer = SnowballStemmer('spanish')"
      ]
    },
    {
      "cell_type": "code",
      "execution_count": 46,
      "metadata": {
        "colab": {
          "base_uri": "https://localhost:8080/"
        },
        "id": "dQl_KZ1G57Og",
        "outputId": "1047eb01-98c0-4048-d0c1-e3adf9447f2b"
      },
      "outputs": [
        {
          "data": {
            "text/plain": [
              "['mir', 'mir', 'cod', 'hac', 'hach']"
            ]
          },
          "execution_count": 46,
          "metadata": {},
          "output_type": "execute_result"
        }
      ],
      "source": [
        "# Aplicamos el stemming para cada palabra pasando el string al metodo .stem()\n",
        "ejemplo = 'mirar miraré codear hacer hachas'\n",
        "[stemmer.stem(i) for i in nltk.word_tokenize(ejemplo)]"
      ]
    },
    {
      "cell_type": "markdown",
      "metadata": {
        "id": "aGWbyIf_Z0dW"
      },
      "source": [
        "¿Qué ventajas y desventajas piensan que conlleva el uso de *stemming*?"
      ]
    },
    {
      "cell_type": "markdown",
      "metadata": {
        "id": "D0Rs6ABnxUcU"
      },
      "source": [
        "# SpaCy\n",
        "\n",
        "Mientras NLTK se centra en técnicas más bien tradicionales, [spaCy](https://spacy.io/) ofrece una API muy cómoda que integra modelos de aprendizaje automático que resuelven tareas típicas de lingüística computacional.\n"
      ]
    },
    {
      "cell_type": "code",
      "execution_count": 49,
      "metadata": {
        "id": "O0A1YNxlHq4O"
      },
      "outputs": [
        {
          "name": "stdout",
          "output_type": "stream",
          "text": [
            "Collecting spacy\n",
            "  Downloading spacy-3.8.4-cp311-cp311-macosx_11_0_arm64.whl.metadata (27 kB)\n",
            "Collecting spacy-legacy<3.1.0,>=3.0.11 (from spacy)\n",
            "  Downloading spacy_legacy-3.0.12-py2.py3-none-any.whl.metadata (2.8 kB)\n",
            "Collecting spacy-loggers<2.0.0,>=1.0.0 (from spacy)\n",
            "  Downloading spacy_loggers-1.0.5-py3-none-any.whl.metadata (23 kB)\n",
            "Collecting murmurhash<1.1.0,>=0.28.0 (from spacy)\n",
            "  Downloading murmurhash-1.0.12-cp311-cp311-macosx_11_0_arm64.whl.metadata (2.1 kB)\n",
            "Collecting cymem<2.1.0,>=2.0.2 (from spacy)\n",
            "  Downloading cymem-2.0.11-cp311-cp311-macosx_11_0_arm64.whl.metadata (8.5 kB)\n",
            "Collecting preshed<3.1.0,>=3.0.2 (from spacy)\n",
            "  Downloading preshed-3.0.9-cp311-cp311-macosx_11_0_arm64.whl.metadata (2.2 kB)\n",
            "Collecting thinc<8.4.0,>=8.3.4 (from spacy)\n",
            "  Downloading thinc-8.3.4-cp311-cp311-macosx_11_0_arm64.whl.metadata (15 kB)\n",
            "Collecting wasabi<1.2.0,>=0.9.1 (from spacy)\n",
            "  Downloading wasabi-1.1.3-py3-none-any.whl.metadata (28 kB)\n",
            "Collecting srsly<3.0.0,>=2.4.3 (from spacy)\n",
            "  Downloading srsly-2.5.1-cp311-cp311-macosx_11_0_arm64.whl.metadata (19 kB)\n",
            "Collecting catalogue<2.1.0,>=2.0.6 (from spacy)\n",
            "  Downloading catalogue-2.0.10-py3-none-any.whl.metadata (14 kB)\n",
            "Collecting weasel<0.5.0,>=0.1.0 (from spacy)\n",
            "  Downloading weasel-0.4.1-py3-none-any.whl.metadata (4.6 kB)\n",
            "Collecting typer<1.0.0,>=0.3.0 (from spacy)\n",
            "  Downloading typer-0.15.2-py3-none-any.whl.metadata (15 kB)\n",
            "Requirement already satisfied: tqdm<5.0.0,>=4.38.0 in /opt/homebrew/anaconda3/lib/python3.11/site-packages (from spacy) (4.67.1)\n",
            "Requirement already satisfied: numpy>=1.19.0 in /opt/homebrew/anaconda3/lib/python3.11/site-packages (from spacy) (1.26.4)\n",
            "Requirement already satisfied: requests<3.0.0,>=2.13.0 in /opt/homebrew/anaconda3/lib/python3.11/site-packages (from spacy) (2.32.3)\n",
            "Requirement already satisfied: pydantic!=1.8,!=1.8.1,<3.0.0,>=1.7.4 in /opt/homebrew/anaconda3/lib/python3.11/site-packages (from spacy) (1.10.12)\n",
            "Requirement already satisfied: jinja2 in /opt/homebrew/anaconda3/lib/python3.11/site-packages (from spacy) (3.1.3)\n",
            "Requirement already satisfied: setuptools in /opt/homebrew/anaconda3/lib/python3.11/site-packages (from spacy) (68.2.2)\n",
            "Requirement already satisfied: packaging>=20.0 in /opt/homebrew/anaconda3/lib/python3.11/site-packages (from spacy) (23.1)\n",
            "Collecting langcodes<4.0.0,>=3.2.0 (from spacy)\n",
            "  Using cached langcodes-3.5.0-py3-none-any.whl.metadata (29 kB)\n",
            "Collecting language-data>=1.2 (from langcodes<4.0.0,>=3.2.0->spacy)\n",
            "  Using cached language_data-1.3.0-py3-none-any.whl.metadata (4.3 kB)\n",
            "Requirement already satisfied: typing-extensions>=4.2.0 in /opt/homebrew/anaconda3/lib/python3.11/site-packages (from pydantic!=1.8,!=1.8.1,<3.0.0,>=1.7.4->spacy) (4.9.0)\n",
            "Requirement already satisfied: charset-normalizer<4,>=2 in /opt/homebrew/anaconda3/lib/python3.11/site-packages (from requests<3.0.0,>=2.13.0->spacy) (2.0.4)\n",
            "Requirement already satisfied: idna<4,>=2.5 in /opt/homebrew/anaconda3/lib/python3.11/site-packages (from requests<3.0.0,>=2.13.0->spacy) (3.4)\n",
            "Requirement already satisfied: urllib3<3,>=1.21.1 in /opt/homebrew/anaconda3/lib/python3.11/site-packages (from requests<3.0.0,>=2.13.0->spacy) (2.0.7)\n",
            "Requirement already satisfied: certifi>=2017.4.17 in /opt/homebrew/anaconda3/lib/python3.11/site-packages (from requests<3.0.0,>=2.13.0->spacy) (2024.2.2)\n",
            "Collecting blis<1.3.0,>=1.2.0 (from thinc<8.4.0,>=8.3.4->spacy)\n",
            "  Downloading blis-1.2.0-cp311-cp311-macosx_11_0_arm64.whl.metadata (7.7 kB)\n",
            "Collecting confection<1.0.0,>=0.0.1 (from thinc<8.4.0,>=8.3.4->spacy)\n",
            "  Downloading confection-0.1.5-py3-none-any.whl.metadata (19 kB)\n",
            "Requirement already satisfied: click>=8.0.0 in /opt/homebrew/anaconda3/lib/python3.11/site-packages (from typer<1.0.0,>=0.3.0->spacy) (8.1.7)\n",
            "Collecting shellingham>=1.3.0 (from typer<1.0.0,>=0.3.0->spacy)\n",
            "  Downloading shellingham-1.5.4-py2.py3-none-any.whl.metadata (3.5 kB)\n",
            "Requirement already satisfied: rich>=10.11.0 in /opt/homebrew/anaconda3/lib/python3.11/site-packages (from typer<1.0.0,>=0.3.0->spacy) (13.3.5)\n",
            "Collecting cloudpathlib<1.0.0,>=0.7.0 (from weasel<0.5.0,>=0.1.0->spacy)\n",
            "  Downloading cloudpathlib-0.21.0-py3-none-any.whl.metadata (14 kB)\n",
            "Requirement already satisfied: smart-open<8.0.0,>=5.2.1 in /opt/homebrew/anaconda3/lib/python3.11/site-packages (from weasel<0.5.0,>=0.1.0->spacy) (5.2.1)\n",
            "Requirement already satisfied: MarkupSafe>=2.0 in /opt/homebrew/anaconda3/lib/python3.11/site-packages (from jinja2->spacy) (2.1.3)\n",
            "Collecting marisa-trie>=1.1.0 (from language-data>=1.2->langcodes<4.0.0,>=3.2.0->spacy)\n",
            "  Downloading marisa_trie-1.2.1-cp311-cp311-macosx_11_0_arm64.whl.metadata (9.0 kB)\n",
            "Requirement already satisfied: markdown-it-py<3.0.0,>=2.2.0 in /opt/homebrew/anaconda3/lib/python3.11/site-packages (from rich>=10.11.0->typer<1.0.0,>=0.3.0->spacy) (2.2.0)\n",
            "Requirement already satisfied: pygments<3.0.0,>=2.13.0 in /opt/homebrew/anaconda3/lib/python3.11/site-packages (from rich>=10.11.0->typer<1.0.0,>=0.3.0->spacy) (2.15.1)\n",
            "Requirement already satisfied: mdurl~=0.1 in /opt/homebrew/anaconda3/lib/python3.11/site-packages (from markdown-it-py<3.0.0,>=2.2.0->rich>=10.11.0->typer<1.0.0,>=0.3.0->spacy) (0.1.0)\n",
            "Downloading spacy-3.8.4-cp311-cp311-macosx_11_0_arm64.whl (6.3 MB)\n",
            "\u001b[2K   \u001b[90m━━━━━━━━━━━━━━━━━━━━━━━━━━━━━━━━━━━━━━━━\u001b[0m \u001b[32m6.3/6.3 MB\u001b[0m \u001b[31m19.3 MB/s\u001b[0m eta \u001b[36m0:00:00\u001b[0ma \u001b[36m0:00:01\u001b[0m\n",
            "\u001b[?25hDownloading catalogue-2.0.10-py3-none-any.whl (17 kB)\n",
            "Downloading cymem-2.0.11-cp311-cp311-macosx_11_0_arm64.whl (41 kB)\n",
            "\u001b[2K   \u001b[90m━━━━━━━━━━━━━━━━━━━━━━━━━━━━━━━━━━━━━━━━\u001b[0m \u001b[32m41.7/41.7 kB\u001b[0m \u001b[31m3.5 MB/s\u001b[0m eta \u001b[36m0:00:00\u001b[0m\n",
            "\u001b[?25hUsing cached langcodes-3.5.0-py3-none-any.whl (182 kB)\n",
            "Downloading murmurhash-1.0.12-cp311-cp311-macosx_11_0_arm64.whl (26 kB)\n",
            "Downloading preshed-3.0.9-cp311-cp311-macosx_11_0_arm64.whl (128 kB)\n",
            "\u001b[2K   \u001b[90m━━━━━━━━━━━━━━━━━━━━━━━━━━━━━━━━━━━━━━━━\u001b[0m \u001b[32m128.8/128.8 kB\u001b[0m \u001b[31m9.3 MB/s\u001b[0m eta \u001b[36m0:00:00\u001b[0m\n",
            "\u001b[?25hDownloading spacy_legacy-3.0.12-py2.py3-none-any.whl (29 kB)\n",
            "Downloading spacy_loggers-1.0.5-py3-none-any.whl (22 kB)\n",
            "Downloading srsly-2.5.1-cp311-cp311-macosx_11_0_arm64.whl (634 kB)\n",
            "\u001b[2K   \u001b[90m━━━━━━━━━━━━━━━━━━━━━━━━━━━━━━━━━━━━━━━━\u001b[0m \u001b[32m634.4/634.4 kB\u001b[0m \u001b[31m20.4 MB/s\u001b[0m eta \u001b[36m0:00:00\u001b[0m\n",
            "\u001b[?25hDownloading thinc-8.3.4-cp311-cp311-macosx_11_0_arm64.whl (774 kB)\n",
            "\u001b[2K   \u001b[90m━━━━━━━━━━━━━━━━━━━━━━━━━━━━━━━━━━━━━━━━\u001b[0m \u001b[32m774.2/774.2 kB\u001b[0m \u001b[31m17.2 MB/s\u001b[0m eta \u001b[36m0:00:00\u001b[0m00:01\u001b[0m\n",
            "\u001b[?25hDownloading typer-0.15.2-py3-none-any.whl (45 kB)\n",
            "\u001b[2K   \u001b[90m━━━━━━━━━━━━━━━━━━━━━━━━━━━━━━━━━━━━━━━━\u001b[0m \u001b[32m45.1/45.1 kB\u001b[0m \u001b[31m4.4 MB/s\u001b[0m eta \u001b[36m0:00:00\u001b[0m\n",
            "\u001b[?25hDownloading wasabi-1.1.3-py3-none-any.whl (27 kB)\n",
            "Downloading weasel-0.4.1-py3-none-any.whl (50 kB)\n",
            "\u001b[2K   \u001b[90m━━━━━━━━━━━━━━━━━━━━━━━━━━━━━━━━━━━━━━━━\u001b[0m \u001b[32m50.3/50.3 kB\u001b[0m \u001b[31m4.7 MB/s\u001b[0m eta \u001b[36m0:00:00\u001b[0m\n",
            "\u001b[?25hDownloading blis-1.2.0-cp311-cp311-macosx_11_0_arm64.whl (1.3 MB)\n",
            "\u001b[2K   \u001b[90m━━━━━━━━━━━━━━━━━━━━━━━━━━━━━━━━━━━━━━━━\u001b[0m \u001b[32m1.3/1.3 MB\u001b[0m \u001b[31m23.1 MB/s\u001b[0m eta \u001b[36m0:00:00\u001b[0ma \u001b[36m0:00:01\u001b[0m\n",
            "\u001b[?25hDownloading cloudpathlib-0.21.0-py3-none-any.whl (52 kB)\n",
            "\u001b[2K   \u001b[90m━━━━━━━━━━━━━━━━━━━━━━━━━━━━━━━━━━━━━━━━\u001b[0m \u001b[32m52.7/52.7 kB\u001b[0m \u001b[31m4.0 MB/s\u001b[0m eta \u001b[36m0:00:00\u001b[0m\n",
            "\u001b[?25hDownloading confection-0.1.5-py3-none-any.whl (35 kB)\n",
            "Using cached language_data-1.3.0-py3-none-any.whl (5.4 MB)\n",
            "Downloading shellingham-1.5.4-py2.py3-none-any.whl (9.8 kB)\n",
            "Downloading marisa_trie-1.2.1-cp311-cp311-macosx_11_0_arm64.whl (174 kB)\n",
            "\u001b[2K   \u001b[90m━━━━━━━━━━━━━━━━━━━━━━━━━━━━━━━━━━━━━━━━\u001b[0m \u001b[32m175.0/175.0 kB\u001b[0m \u001b[31m11.0 MB/s\u001b[0m eta \u001b[36m0:00:00\u001b[0m\n",
            "\u001b[?25hInstalling collected packages: cymem, wasabi, spacy-loggers, spacy-legacy, shellingham, murmurhash, marisa-trie, cloudpathlib, catalogue, blis, srsly, preshed, language-data, typer, langcodes, confection, weasel, thinc, spacy\n",
            "Successfully installed blis-1.2.0 catalogue-2.0.10 cloudpathlib-0.21.0 confection-0.1.5 cymem-2.0.11 langcodes-3.5.0 language-data-1.3.0 marisa-trie-1.2.1 murmurhash-1.0.12 preshed-3.0.9 shellingham-1.5.4 spacy-3.8.4 spacy-legacy-3.0.12 spacy-loggers-1.0.5 srsly-2.5.1 thinc-8.3.4 typer-0.15.2 wasabi-1.1.3 weasel-0.4.1\n",
            "Collecting es-core-news-md==3.8.0\n",
            "  Downloading https://github.com/explosion/spacy-models/releases/download/es_core_news_md-3.8.0/es_core_news_md-3.8.0-py3-none-any.whl (42.3 MB)\n",
            "\u001b[2K     \u001b[90m━━━━━━━━━━━━━━━━━━━━━━━━━━━━━━━━━━━━━━━━\u001b[0m \u001b[32m42.3/42.3 MB\u001b[0m \u001b[31m25.8 MB/s\u001b[0m eta \u001b[36m0:00:00\u001b[0m00:01\u001b[0m00:01\u001b[0m\n",
            "\u001b[?25hInstalling collected packages: es-core-news-md\n",
            "Successfully installed es-core-news-md-3.8.0\n",
            "\u001b[38;5;2m✔ Download and installation successful\u001b[0m\n",
            "You can now load the package via spacy.load('es_core_news_md')\n"
          ]
        }
      ],
      "source": [
        "!pip install spacy\n",
        "!python -m spacy download es_core_news_md\n",
        "import numpy as np\n",
        "import spacy\n",
        "from spacy import displacy"
      ]
    },
    {
      "cell_type": "code",
      "execution_count": 50,
      "metadata": {
        "id": "8w3z8ZugxUcV"
      },
      "outputs": [],
      "source": [
        "# Inicializamos Spacy con modelos en español\n",
        "nlp = spacy.load('es_core_news_md')"
      ]
    },
    {
      "cell_type": "code",
      "execution_count": 51,
      "metadata": {
        "id": "QF_uKXtf0enc"
      },
      "outputs": [],
      "source": [
        "ejemplo = 'El Doctor afirmó que actuando de maneras probabilísticas el cerebro aprende conceptos discretos. ¡Qué fenómeno misterioso!'"
      ]
    },
    {
      "cell_type": "code",
      "execution_count": 52,
      "metadata": {
        "colab": {
          "base_uri": "https://localhost:8080/"
        },
        "id": "KsuwNwjVxUcd",
        "outputId": "9323c1e0-b80c-4a42-a5d8-c72a9eec9e1d"
      },
      "outputs": [
        {
          "data": {
            "text/plain": [
              "spacy.tokens.doc.Doc"
            ]
          },
          "execution_count": 52,
          "metadata": {},
          "output_type": "execute_result"
        }
      ],
      "source": [
        "# Instanciamos un Doc de spacy con nuestro texto\n",
        "doc = nlp(ejemplo)\n",
        "type(doc)"
      ]
    },
    {
      "cell_type": "code",
      "execution_count": 53,
      "metadata": {
        "colab": {
          "base_uri": "https://localhost:8080/"
        },
        "id": "Hg8kunNYxUcy",
        "outputId": "5699ed70-b6b4-4d69-9e06-9ea36cab3cb3"
      },
      "outputs": [
        {
          "name": "stdout",
          "output_type": "stream",
          "text": [
            "El\n",
            "Doctor\n",
            "afirmó\n",
            "que\n",
            "actuando\n",
            "de\n",
            "maneras\n",
            "probabilísticas\n",
            "el\n",
            "cerebro\n",
            "aprende\n",
            "conceptos\n",
            "discretos\n",
            ".\n",
            "¡\n",
            "Qué\n",
            "fenómeno\n",
            "misterioso\n",
            "!\n"
          ]
        }
      ],
      "source": [
        "for word in doc:\n",
        "    print(word.text)"
      ]
    },
    {
      "cell_type": "code",
      "execution_count": 54,
      "metadata": {
        "colab": {
          "base_uri": "https://localhost:8080/"
        },
        "id": "2QZNMBF_xUci",
        "outputId": "087edc8d-7b50-4697-e5cb-c552aa5ddf7e"
      },
      "outputs": [
        {
          "data": {
            "text/plain": [
              "El Doctor afirmó que actuando de maneras probabilísticas el cerebro aprende conceptos discretos. ¡Qué fenómeno misterioso!"
            ]
          },
          "execution_count": 54,
          "metadata": {},
          "output_type": "execute_result"
        }
      ],
      "source": [
        "doc"
      ]
    },
    {
      "cell_type": "markdown",
      "metadata": {
        "id": "k70BkVqxxUd3"
      },
      "source": [
        "## Lemmatización\n",
        "\n",
        "El *stemming* vemos que es un enfoque bastante bruto para normalizar, desechando parte de la información de la palabra. Podemos tener un problema de polisemia, con una raíz refiriendo a palabras muy distintas. La solución a esto es la **lematización**, que busca llevar a una palabra a su forma canónica o esencial."
      ]
    },
    {
      "cell_type": "code",
      "execution_count": 55,
      "metadata": {
        "colab": {
          "base_uri": "https://localhost:8080/"
        },
        "id": "nOl_sc8VxUd4",
        "outputId": "6ad5b9df-219b-4a54-fba6-543baaae5562"
      },
      "outputs": [
        {
          "name": "stdout",
          "output_type": "stream",
          "text": [
            "el\n",
            "Doctor\n",
            "afirmar\n",
            "que\n",
            "actuar\n",
            "de\n",
            "manera\n",
            "probabilística\n",
            "el\n",
            "cerebro\n",
            "aprender\n",
            "concepto\n",
            "discreto\n",
            ".\n",
            "¡\n",
            "qué\n",
            "fenómeno\n",
            "misterioso\n",
            "!\n"
          ]
        }
      ],
      "source": [
        "for word in doc:\n",
        "    print(word.lemma_)"
      ]
    },
    {
      "cell_type": "markdown",
      "metadata": {
        "id": "Q-7wpmQBOePm"
      },
      "source": [
        "## Limitaciones de la Bolsa de Palabras\n",
        "\n",
        "Utilizando las técnicas que vimos (normalización, n-gramas, stop words) podemos mejorar significativamente el rendimiento de algoritmos de Aprendizaje Automático que se basan en bolsa de palabras.\n",
        "\n",
        "Sin embargo, si entrenamos un clasificador usando esta matriz, lo que hará es encontrar relaciones estadísticas entre la ocurrencia de cierto token con su categoría (en el caso supervisado). ¿Qué problemas se te puede que puede tener?\n",
        "\n",
        "- Contexto\n",
        "- Orden\n",
        "- Dimensionalidad (variaciones en las palabras, n gramas)\n",
        "\n",
        "\n",
        "En las próximas clases veremos cómo las redes neuronales abordan estos obstáculos."
      ]
    },
    {
      "cell_type": "markdown",
      "metadata": {
        "id": "0ML6niFYOfer"
      },
      "source": [
        "# Tareas de NLP\n",
        "\n",
        "SpaCy integra en su API de una manera elegante atributos y métodos generados por modelos de Aprendizaje Automático."
      ]
    },
    {
      "cell_type": "markdown",
      "metadata": {
        "id": "xMeVpNzTxUc4"
      },
      "source": [
        "## Segmentación de oraciones"
      ]
    },
    {
      "cell_type": "code",
      "execution_count": 56,
      "metadata": {
        "colab": {
          "base_uri": "https://localhost:8080/"
        },
        "id": "eYasvkfvxUc7",
        "outputId": "d21e870a-1ecc-41fc-97c2-db5b0ffdd3fb"
      },
      "outputs": [
        {
          "data": {
            "text/plain": [
              "[El Doctor afirmó que actuando de maneras probabilísticas el cerebro aprende conceptos discretos.,\n",
              " ¡Qué fenómeno misterioso!]"
            ]
          },
          "execution_count": 56,
          "metadata": {},
          "output_type": "execute_result"
        }
      ],
      "source": [
        "list(doc.sents)"
      ]
    },
    {
      "cell_type": "markdown",
      "metadata": {
        "id": "lyWeO8cNxUdD"
      },
      "source": [
        "## Part-Of-Speech Tags\n",
        "\n",
        "Podemos estimar la función gramatical de cada palabra, accediendo directamente al atributo `.pos_` de cada token:\n"
      ]
    },
    {
      "cell_type": "code",
      "execution_count": 57,
      "metadata": {
        "colab": {
          "base_uri": "https://localhost:8080/"
        },
        "id": "dMQkMahvxUdF",
        "outputId": "b74120c5-c23f-44b8-9540-15c0b161aa8d"
      },
      "outputs": [
        {
          "name": "stdout",
          "output_type": "stream",
          "text": [
            "El DET\n",
            "Doctor PROPN\n",
            "afirmó VERB\n",
            "que SCONJ\n",
            "actuando VERB\n",
            "de ADP\n",
            "maneras NOUN\n",
            "probabilísticas ADJ\n",
            "el DET\n",
            "cerebro NOUN\n",
            "aprende VERB\n",
            "conceptos NOUN\n",
            "discretos ADJ\n",
            ". PUNCT\n",
            "¡ PUNCT\n",
            "Qué DET\n",
            "fenómeno NOUN\n",
            "misterioso ADJ\n",
            "! PUNCT\n"
          ]
        }
      ],
      "source": [
        "for word in doc:\n",
        "    print(word.text, word.pos_)"
      ]
    },
    {
      "cell_type": "markdown",
      "metadata": {
        "id": "iU-3XumnxUdQ"
      },
      "source": [
        "## Dependency parsing\n",
        "\n",
        "¡También contamos con información sobre la co-referencia o dependencia sintáctica entre términos!"
      ]
    },
    {
      "cell_type": "code",
      "execution_count": 58,
      "metadata": {
        "colab": {
          "base_uri": "https://localhost:8080/",
          "height": 615
        },
        "id": "6n5rWDQSxUdV",
        "outputId": "8d742406-eaf8-488b-8d9c-4a01ce8bf928"
      },
      "outputs": [
        {
          "data": {
            "text/html": [
              "<span class=\"tex2jax_ignore\"><svg xmlns=\"http://www.w3.org/2000/svg\" xmlns:xlink=\"http://www.w3.org/1999/xlink\" xml:lang=\"es\" id=\"79691abbcf514532bfcd831a3e759078-0\" class=\"displacy\" width=\"2850\" height=\"574.5\" direction=\"ltr\" style=\"max-width: none; height: 574.5px; color: #000000; background: #ffffff; font-family: Arial; direction: ltr\">\n",
              "<text class=\"displacy-token\" fill=\"currentColor\" text-anchor=\"middle\" y=\"484.5\">\n",
              "    <tspan class=\"displacy-word\" fill=\"currentColor\" x=\"50\">El</tspan>\n",
              "    <tspan class=\"displacy-tag\" dy=\"2em\" fill=\"currentColor\" x=\"50\">DET</tspan>\n",
              "</text>\n",
              "\n",
              "<text class=\"displacy-token\" fill=\"currentColor\" text-anchor=\"middle\" y=\"484.5\">\n",
              "    <tspan class=\"displacy-word\" fill=\"currentColor\" x=\"225\">Doctor</tspan>\n",
              "    <tspan class=\"displacy-tag\" dy=\"2em\" fill=\"currentColor\" x=\"225\">PROPN</tspan>\n",
              "</text>\n",
              "\n",
              "<text class=\"displacy-token\" fill=\"currentColor\" text-anchor=\"middle\" y=\"484.5\">\n",
              "    <tspan class=\"displacy-word\" fill=\"currentColor\" x=\"400\">afirmó</tspan>\n",
              "    <tspan class=\"displacy-tag\" dy=\"2em\" fill=\"currentColor\" x=\"400\">VERB</tspan>\n",
              "</text>\n",
              "\n",
              "<text class=\"displacy-token\" fill=\"currentColor\" text-anchor=\"middle\" y=\"484.5\">\n",
              "    <tspan class=\"displacy-word\" fill=\"currentColor\" x=\"575\">que</tspan>\n",
              "    <tspan class=\"displacy-tag\" dy=\"2em\" fill=\"currentColor\" x=\"575\">SCONJ</tspan>\n",
              "</text>\n",
              "\n",
              "<text class=\"displacy-token\" fill=\"currentColor\" text-anchor=\"middle\" y=\"484.5\">\n",
              "    <tspan class=\"displacy-word\" fill=\"currentColor\" x=\"750\">actuando</tspan>\n",
              "    <tspan class=\"displacy-tag\" dy=\"2em\" fill=\"currentColor\" x=\"750\">VERB</tspan>\n",
              "</text>\n",
              "\n",
              "<text class=\"displacy-token\" fill=\"currentColor\" text-anchor=\"middle\" y=\"484.5\">\n",
              "    <tspan class=\"displacy-word\" fill=\"currentColor\" x=\"925\">de</tspan>\n",
              "    <tspan class=\"displacy-tag\" dy=\"2em\" fill=\"currentColor\" x=\"925\">ADP</tspan>\n",
              "</text>\n",
              "\n",
              "<text class=\"displacy-token\" fill=\"currentColor\" text-anchor=\"middle\" y=\"484.5\">\n",
              "    <tspan class=\"displacy-word\" fill=\"currentColor\" x=\"1100\">maneras</tspan>\n",
              "    <tspan class=\"displacy-tag\" dy=\"2em\" fill=\"currentColor\" x=\"1100\">NOUN</tspan>\n",
              "</text>\n",
              "\n",
              "<text class=\"displacy-token\" fill=\"currentColor\" text-anchor=\"middle\" y=\"484.5\">\n",
              "    <tspan class=\"displacy-word\" fill=\"currentColor\" x=\"1275\">probabilísticas</tspan>\n",
              "    <tspan class=\"displacy-tag\" dy=\"2em\" fill=\"currentColor\" x=\"1275\">ADJ</tspan>\n",
              "</text>\n",
              "\n",
              "<text class=\"displacy-token\" fill=\"currentColor\" text-anchor=\"middle\" y=\"484.5\">\n",
              "    <tspan class=\"displacy-word\" fill=\"currentColor\" x=\"1450\">el</tspan>\n",
              "    <tspan class=\"displacy-tag\" dy=\"2em\" fill=\"currentColor\" x=\"1450\">DET</tspan>\n",
              "</text>\n",
              "\n",
              "<text class=\"displacy-token\" fill=\"currentColor\" text-anchor=\"middle\" y=\"484.5\">\n",
              "    <tspan class=\"displacy-word\" fill=\"currentColor\" x=\"1625\">cerebro</tspan>\n",
              "    <tspan class=\"displacy-tag\" dy=\"2em\" fill=\"currentColor\" x=\"1625\">NOUN</tspan>\n",
              "</text>\n",
              "\n",
              "<text class=\"displacy-token\" fill=\"currentColor\" text-anchor=\"middle\" y=\"484.5\">\n",
              "    <tspan class=\"displacy-word\" fill=\"currentColor\" x=\"1800\">aprende</tspan>\n",
              "    <tspan class=\"displacy-tag\" dy=\"2em\" fill=\"currentColor\" x=\"1800\">VERB</tspan>\n",
              "</text>\n",
              "\n",
              "<text class=\"displacy-token\" fill=\"currentColor\" text-anchor=\"middle\" y=\"484.5\">\n",
              "    <tspan class=\"displacy-word\" fill=\"currentColor\" x=\"1975\">conceptos</tspan>\n",
              "    <tspan class=\"displacy-tag\" dy=\"2em\" fill=\"currentColor\" x=\"1975\">NOUN</tspan>\n",
              "</text>\n",
              "\n",
              "<text class=\"displacy-token\" fill=\"currentColor\" text-anchor=\"middle\" y=\"484.5\">\n",
              "    <tspan class=\"displacy-word\" fill=\"currentColor\" x=\"2150\">discretos. ¡</tspan>\n",
              "    <tspan class=\"displacy-tag\" dy=\"2em\" fill=\"currentColor\" x=\"2150\">ADJ</tspan>\n",
              "</text>\n",
              "\n",
              "<text class=\"displacy-token\" fill=\"currentColor\" text-anchor=\"middle\" y=\"484.5\">\n",
              "    <tspan class=\"displacy-word\" fill=\"currentColor\" x=\"2325\">Qué</tspan>\n",
              "    <tspan class=\"displacy-tag\" dy=\"2em\" fill=\"currentColor\" x=\"2325\">DET</tspan>\n",
              "</text>\n",
              "\n",
              "<text class=\"displacy-token\" fill=\"currentColor\" text-anchor=\"middle\" y=\"484.5\">\n",
              "    <tspan class=\"displacy-word\" fill=\"currentColor\" x=\"2500\">fenómeno</tspan>\n",
              "    <tspan class=\"displacy-tag\" dy=\"2em\" fill=\"currentColor\" x=\"2500\">NOUN</tspan>\n",
              "</text>\n",
              "\n",
              "<text class=\"displacy-token\" fill=\"currentColor\" text-anchor=\"middle\" y=\"484.5\">\n",
              "    <tspan class=\"displacy-word\" fill=\"currentColor\" x=\"2675\">misterioso!</tspan>\n",
              "    <tspan class=\"displacy-tag\" dy=\"2em\" fill=\"currentColor\" x=\"2675\">ADJ</tspan>\n",
              "</text>\n",
              "\n",
              "<g class=\"displacy-arrow\">\n",
              "    <path class=\"displacy-arc\" id=\"arrow-79691abbcf514532bfcd831a3e759078-0-0\" stroke-width=\"2px\" d=\"M70,439.5 C70,352.0 205.0,352.0 205.0,439.5\" fill=\"none\" stroke=\"currentColor\"/>\n",
              "    <text dy=\"1.25em\" style=\"font-size: 0.8em; letter-spacing: 1px\">\n",
              "        <textPath xlink:href=\"#arrow-79691abbcf514532bfcd831a3e759078-0-0\" class=\"displacy-label\" startOffset=\"50%\" side=\"left\" fill=\"currentColor\" text-anchor=\"middle\">det</textPath>\n",
              "    </text>\n",
              "    <path class=\"displacy-arrowhead\" d=\"M70,441.5 L62,429.5 78,429.5\" fill=\"currentColor\"/>\n",
              "</g>\n",
              "\n",
              "<g class=\"displacy-arrow\">\n",
              "    <path class=\"displacy-arc\" id=\"arrow-79691abbcf514532bfcd831a3e759078-0-1\" stroke-width=\"2px\" d=\"M245,439.5 C245,352.0 380.0,352.0 380.0,439.5\" fill=\"none\" stroke=\"currentColor\"/>\n",
              "    <text dy=\"1.25em\" style=\"font-size: 0.8em; letter-spacing: 1px\">\n",
              "        <textPath xlink:href=\"#arrow-79691abbcf514532bfcd831a3e759078-0-1\" class=\"displacy-label\" startOffset=\"50%\" side=\"left\" fill=\"currentColor\" text-anchor=\"middle\">nsubj</textPath>\n",
              "    </text>\n",
              "    <path class=\"displacy-arrowhead\" d=\"M245,441.5 L237,429.5 253,429.5\" fill=\"currentColor\"/>\n",
              "</g>\n",
              "\n",
              "<g class=\"displacy-arrow\">\n",
              "    <path class=\"displacy-arc\" id=\"arrow-79691abbcf514532bfcd831a3e759078-0-2\" stroke-width=\"2px\" d=\"M595,439.5 C595,89.5 1795.0,89.5 1795.0,439.5\" fill=\"none\" stroke=\"currentColor\"/>\n",
              "    <text dy=\"1.25em\" style=\"font-size: 0.8em; letter-spacing: 1px\">\n",
              "        <textPath xlink:href=\"#arrow-79691abbcf514532bfcd831a3e759078-0-2\" class=\"displacy-label\" startOffset=\"50%\" side=\"left\" fill=\"currentColor\" text-anchor=\"middle\">mark</textPath>\n",
              "    </text>\n",
              "    <path class=\"displacy-arrowhead\" d=\"M595,441.5 L587,429.5 603,429.5\" fill=\"currentColor\"/>\n",
              "</g>\n",
              "\n",
              "<g class=\"displacy-arrow\">\n",
              "    <path class=\"displacy-arc\" id=\"arrow-79691abbcf514532bfcd831a3e759078-0-3\" stroke-width=\"2px\" d=\"M770,439.5 C770,177.0 1790.0,177.0 1790.0,439.5\" fill=\"none\" stroke=\"currentColor\"/>\n",
              "    <text dy=\"1.25em\" style=\"font-size: 0.8em; letter-spacing: 1px\">\n",
              "        <textPath xlink:href=\"#arrow-79691abbcf514532bfcd831a3e759078-0-3\" class=\"displacy-label\" startOffset=\"50%\" side=\"left\" fill=\"currentColor\" text-anchor=\"middle\">advcl</textPath>\n",
              "    </text>\n",
              "    <path class=\"displacy-arrowhead\" d=\"M770,441.5 L762,429.5 778,429.5\" fill=\"currentColor\"/>\n",
              "</g>\n",
              "\n",
              "<g class=\"displacy-arrow\">\n",
              "    <path class=\"displacy-arc\" id=\"arrow-79691abbcf514532bfcd831a3e759078-0-4\" stroke-width=\"2px\" d=\"M945,439.5 C945,352.0 1080.0,352.0 1080.0,439.5\" fill=\"none\" stroke=\"currentColor\"/>\n",
              "    <text dy=\"1.25em\" style=\"font-size: 0.8em; letter-spacing: 1px\">\n",
              "        <textPath xlink:href=\"#arrow-79691abbcf514532bfcd831a3e759078-0-4\" class=\"displacy-label\" startOffset=\"50%\" side=\"left\" fill=\"currentColor\" text-anchor=\"middle\">case</textPath>\n",
              "    </text>\n",
              "    <path class=\"displacy-arrowhead\" d=\"M945,441.5 L937,429.5 953,429.5\" fill=\"currentColor\"/>\n",
              "</g>\n",
              "\n",
              "<g class=\"displacy-arrow\">\n",
              "    <path class=\"displacy-arc\" id=\"arrow-79691abbcf514532bfcd831a3e759078-0-5\" stroke-width=\"2px\" d=\"M770,439.5 C770,264.5 1085.0,264.5 1085.0,439.5\" fill=\"none\" stroke=\"currentColor\"/>\n",
              "    <text dy=\"1.25em\" style=\"font-size: 0.8em; letter-spacing: 1px\">\n",
              "        <textPath xlink:href=\"#arrow-79691abbcf514532bfcd831a3e759078-0-5\" class=\"displacy-label\" startOffset=\"50%\" side=\"left\" fill=\"currentColor\" text-anchor=\"middle\">obj</textPath>\n",
              "    </text>\n",
              "    <path class=\"displacy-arrowhead\" d=\"M1085.0,441.5 L1093.0,429.5 1077.0,429.5\" fill=\"currentColor\"/>\n",
              "</g>\n",
              "\n",
              "<g class=\"displacy-arrow\">\n",
              "    <path class=\"displacy-arc\" id=\"arrow-79691abbcf514532bfcd831a3e759078-0-6\" stroke-width=\"2px\" d=\"M1120,439.5 C1120,352.0 1255.0,352.0 1255.0,439.5\" fill=\"none\" stroke=\"currentColor\"/>\n",
              "    <text dy=\"1.25em\" style=\"font-size: 0.8em; letter-spacing: 1px\">\n",
              "        <textPath xlink:href=\"#arrow-79691abbcf514532bfcd831a3e759078-0-6\" class=\"displacy-label\" startOffset=\"50%\" side=\"left\" fill=\"currentColor\" text-anchor=\"middle\">amod</textPath>\n",
              "    </text>\n",
              "    <path class=\"displacy-arrowhead\" d=\"M1255.0,441.5 L1263.0,429.5 1247.0,429.5\" fill=\"currentColor\"/>\n",
              "</g>\n",
              "\n",
              "<g class=\"displacy-arrow\">\n",
              "    <path class=\"displacy-arc\" id=\"arrow-79691abbcf514532bfcd831a3e759078-0-7\" stroke-width=\"2px\" d=\"M1470,439.5 C1470,352.0 1605.0,352.0 1605.0,439.5\" fill=\"none\" stroke=\"currentColor\"/>\n",
              "    <text dy=\"1.25em\" style=\"font-size: 0.8em; letter-spacing: 1px\">\n",
              "        <textPath xlink:href=\"#arrow-79691abbcf514532bfcd831a3e759078-0-7\" class=\"displacy-label\" startOffset=\"50%\" side=\"left\" fill=\"currentColor\" text-anchor=\"middle\">det</textPath>\n",
              "    </text>\n",
              "    <path class=\"displacy-arrowhead\" d=\"M1470,441.5 L1462,429.5 1478,429.5\" fill=\"currentColor\"/>\n",
              "</g>\n",
              "\n",
              "<g class=\"displacy-arrow\">\n",
              "    <path class=\"displacy-arc\" id=\"arrow-79691abbcf514532bfcd831a3e759078-0-8\" stroke-width=\"2px\" d=\"M1645,439.5 C1645,352.0 1780.0,352.0 1780.0,439.5\" fill=\"none\" stroke=\"currentColor\"/>\n",
              "    <text dy=\"1.25em\" style=\"font-size: 0.8em; letter-spacing: 1px\">\n",
              "        <textPath xlink:href=\"#arrow-79691abbcf514532bfcd831a3e759078-0-8\" class=\"displacy-label\" startOffset=\"50%\" side=\"left\" fill=\"currentColor\" text-anchor=\"middle\">nsubj</textPath>\n",
              "    </text>\n",
              "    <path class=\"displacy-arrowhead\" d=\"M1645,441.5 L1637,429.5 1653,429.5\" fill=\"currentColor\"/>\n",
              "</g>\n",
              "\n",
              "<g class=\"displacy-arrow\">\n",
              "    <path class=\"displacy-arc\" id=\"arrow-79691abbcf514532bfcd831a3e759078-0-9\" stroke-width=\"2px\" d=\"M420,439.5 C420,2.0 1800.0,2.0 1800.0,439.5\" fill=\"none\" stroke=\"currentColor\"/>\n",
              "    <text dy=\"1.25em\" style=\"font-size: 0.8em; letter-spacing: 1px\">\n",
              "        <textPath xlink:href=\"#arrow-79691abbcf514532bfcd831a3e759078-0-9\" class=\"displacy-label\" startOffset=\"50%\" side=\"left\" fill=\"currentColor\" text-anchor=\"middle\">ccomp</textPath>\n",
              "    </text>\n",
              "    <path class=\"displacy-arrowhead\" d=\"M1800.0,441.5 L1808.0,429.5 1792.0,429.5\" fill=\"currentColor\"/>\n",
              "</g>\n",
              "\n",
              "<g class=\"displacy-arrow\">\n",
              "    <path class=\"displacy-arc\" id=\"arrow-79691abbcf514532bfcd831a3e759078-0-10\" stroke-width=\"2px\" d=\"M1820,439.5 C1820,352.0 1955.0,352.0 1955.0,439.5\" fill=\"none\" stroke=\"currentColor\"/>\n",
              "    <text dy=\"1.25em\" style=\"font-size: 0.8em; letter-spacing: 1px\">\n",
              "        <textPath xlink:href=\"#arrow-79691abbcf514532bfcd831a3e759078-0-10\" class=\"displacy-label\" startOffset=\"50%\" side=\"left\" fill=\"currentColor\" text-anchor=\"middle\">obj</textPath>\n",
              "    </text>\n",
              "    <path class=\"displacy-arrowhead\" d=\"M1955.0,441.5 L1963.0,429.5 1947.0,429.5\" fill=\"currentColor\"/>\n",
              "</g>\n",
              "\n",
              "<g class=\"displacy-arrow\">\n",
              "    <path class=\"displacy-arc\" id=\"arrow-79691abbcf514532bfcd831a3e759078-0-11\" stroke-width=\"2px\" d=\"M1995,439.5 C1995,352.0 2130.0,352.0 2130.0,439.5\" fill=\"none\" stroke=\"currentColor\"/>\n",
              "    <text dy=\"1.25em\" style=\"font-size: 0.8em; letter-spacing: 1px\">\n",
              "        <textPath xlink:href=\"#arrow-79691abbcf514532bfcd831a3e759078-0-11\" class=\"displacy-label\" startOffset=\"50%\" side=\"left\" fill=\"currentColor\" text-anchor=\"middle\">amod</textPath>\n",
              "    </text>\n",
              "    <path class=\"displacy-arrowhead\" d=\"M2130.0,441.5 L2138.0,429.5 2122.0,429.5\" fill=\"currentColor\"/>\n",
              "</g>\n",
              "\n",
              "<g class=\"displacy-arrow\">\n",
              "    <path class=\"displacy-arc\" id=\"arrow-79691abbcf514532bfcd831a3e759078-0-12\" stroke-width=\"2px\" d=\"M2345,439.5 C2345,352.0 2480.0,352.0 2480.0,439.5\" fill=\"none\" stroke=\"currentColor\"/>\n",
              "    <text dy=\"1.25em\" style=\"font-size: 0.8em; letter-spacing: 1px\">\n",
              "        <textPath xlink:href=\"#arrow-79691abbcf514532bfcd831a3e759078-0-12\" class=\"displacy-label\" startOffset=\"50%\" side=\"left\" fill=\"currentColor\" text-anchor=\"middle\">det</textPath>\n",
              "    </text>\n",
              "    <path class=\"displacy-arrowhead\" d=\"M2345,441.5 L2337,429.5 2353,429.5\" fill=\"currentColor\"/>\n",
              "</g>\n",
              "\n",
              "<g class=\"displacy-arrow\">\n",
              "    <path class=\"displacy-arc\" id=\"arrow-79691abbcf514532bfcd831a3e759078-0-13\" stroke-width=\"2px\" d=\"M2520,439.5 C2520,352.0 2655.0,352.0 2655.0,439.5\" fill=\"none\" stroke=\"currentColor\"/>\n",
              "    <text dy=\"1.25em\" style=\"font-size: 0.8em; letter-spacing: 1px\">\n",
              "        <textPath xlink:href=\"#arrow-79691abbcf514532bfcd831a3e759078-0-13\" class=\"displacy-label\" startOffset=\"50%\" side=\"left\" fill=\"currentColor\" text-anchor=\"middle\">amod</textPath>\n",
              "    </text>\n",
              "    <path class=\"displacy-arrowhead\" d=\"M2655.0,441.5 L2663.0,429.5 2647.0,429.5\" fill=\"currentColor\"/>\n",
              "</g>\n",
              "</svg></span>"
            ],
            "text/plain": [
              "<IPython.core.display.HTML object>"
            ]
          },
          "metadata": {},
          "output_type": "display_data"
        }
      ],
      "source": [
        "displacy.render(doc, style='dep', jupyter=True)"
      ]
    },
    {
      "cell_type": "markdown",
      "metadata": {
        "id": "PhSznS5QxUdg"
      },
      "source": [
        "## Reconocimiento de Entidades\n",
        "\n",
        "Podemos encontrar las personas (más general, \"entes\") que se mencionan en los textos:"
      ]
    },
    {
      "cell_type": "code",
      "execution_count": 60,
      "metadata": {
        "colab": {
          "base_uri": "https://localhost:8080/"
        },
        "id": "vWzeZ-DVxUdk",
        "outputId": "9ec19a8e-1bc6-40f2-eed2-67a6dca72c11"
      },
      "outputs": [
        {
          "data": {
            "text/plain": [
              "(Doctor,)"
            ]
          },
          "execution_count": 60,
          "metadata": {},
          "output_type": "execute_result"
        }
      ],
      "source": [
        "doc.ents"
      ]
    },
    {
      "cell_type": "code",
      "execution_count": 59,
      "metadata": {
        "colab": {
          "base_uri": "https://localhost:8080/",
          "height": 52
        },
        "id": "IbrftXE0xUdw",
        "outputId": "3aa367b9-c051-4db3-8593-18780cbc3b70"
      },
      "outputs": [
        {
          "data": {
            "text/html": [
              "<span class=\"tex2jax_ignore\"><div class=\"entities\" style=\"line-height: 2.5; direction: ltr\">El \n",
              "<mark class=\"entity\" style=\"background: #ddd; padding: 0.45em 0.6em; margin: 0 0.25em; line-height: 1; border-radius: 0.35em;\">\n",
              "    Doctor\n",
              "    <span style=\"font-size: 0.8em; font-weight: bold; line-height: 1; border-radius: 0.35em; vertical-align: middle; margin-left: 0.5rem\">MISC</span>\n",
              "</mark>\n",
              " afirmó que actuando de maneras probabilísticas el cerebro aprende conceptos discretos. ¡Qué fenómeno misterioso!</div></span>"
            ],
            "text/plain": [
              "<IPython.core.display.HTML object>"
            ]
          },
          "metadata": {},
          "output_type": "display_data"
        }
      ],
      "source": [
        "displacy.render(doc, style='ent', jupyter=True);"
      ]
    },
    {
      "cell_type": "markdown",
      "metadata": {
        "id": "WURAKPdPxUeC"
      },
      "source": [
        "## Vectores de Palabras\n",
        "\n",
        "Podemos acceder a los vectores con `.vector`. ¡Veremos en detalle este tema en las próximas clases!"
      ]
    },
    {
      "cell_type": "code",
      "execution_count": 61,
      "metadata": {
        "id": "UZoIw0m_xUeZ"
      },
      "outputs": [],
      "source": [
        "def cosine_similarity(x, y):\n",
        "    return x @ y / (np.linalg.norm(x) * np.linalg.norm(y))"
      ]
    },
    {
      "cell_type": "code",
      "execution_count": 62,
      "metadata": {
        "colab": {
          "base_uri": "https://localhost:8080/"
        },
        "id": "8mcqyIvc-SZl",
        "outputId": "2d86ee91-373f-4411-b3f3-9c588387f0ea"
      },
      "outputs": [
        {
          "data": {
            "text/plain": [
              "El Doctor afirmó que actuando de maneras probabilísticas el cerebro aprende conceptos discretos. ¡Qué fenómeno misterioso!"
            ]
          },
          "execution_count": 62,
          "metadata": {},
          "output_type": "execute_result"
        }
      ],
      "source": [
        "doc"
      ]
    },
    {
      "cell_type": "code",
      "execution_count": 63,
      "metadata": {
        "id": "Cfr8bINixUe1"
      },
      "outputs": [],
      "source": [
        "doc2 = nlp(\"La curiosidad por nuevas ideas es lo que impulsa a derivar ecuaciones y descubrir simetrías.\")\n",
        "doc3 = nlp(\"Una pizza de napolitana con ajo, una de muzzarella con jamón, media de chocolate y una cerveza roja.\")"
      ]
    },
    {
      "cell_type": "code",
      "execution_count": 64,
      "metadata": {
        "colab": {
          "base_uri": "https://localhost:8080/"
        },
        "id": "Q4FjTaWhLKhS",
        "outputId": "bdb3afbf-e00b-4d89-d864-b36d0940deec"
      },
      "outputs": [
        {
          "data": {
            "text/plain": [
              "0.4817427186959799"
            ]
          },
          "execution_count": 64,
          "metadata": {},
          "output_type": "execute_result"
        }
      ],
      "source": [
        "doc.similarity(doc2)"
      ]
    },
    {
      "cell_type": "code",
      "execution_count": 65,
      "metadata": {
        "colab": {
          "base_uri": "https://localhost:8080/"
        },
        "id": "1oPVW-gx9slo",
        "outputId": "9b40c09a-4475-42b4-e57c-5f6d7ece18d5"
      },
      "outputs": [
        {
          "data": {
            "text/plain": [
              "0.34200216856787996"
            ]
          },
          "execution_count": 65,
          "metadata": {},
          "output_type": "execute_result"
        }
      ],
      "source": [
        "doc.similarity(doc3)"
      ]
    },
    {
      "cell_type": "markdown",
      "metadata": {
        "id": "5EeMD_Eyy6Id"
      },
      "source": [
        "# Caso: Clasificación de textos como Positivo o Negativo o _Sentiment Analysis_\n",
        "\n",
        "Vamos a ver un ejemplo sencillo de clasificación de texto, haciendo un sentiment análisis de frases o positivas o negativas."
      ]
    },
    {
      "cell_type": "code",
      "execution_count": 66,
      "metadata": {
        "id": "-SURyyTirZO6"
      },
      "outputs": [],
      "source": [
        "# Importamos\n",
        "\n",
        "import pandas as pd\n",
        "from sklearn.model_selection import train_test_split\n",
        "from sklearn.naive_bayes import MultinomialNB\n",
        "from sklearn.feature_extraction.text import TfidfVectorizer\n",
        "from sklearn.pipeline import make_pipeline\n",
        "from sklearn.metrics import confusion_matrix,accuracy_score\n",
        "import seaborn as sns\n",
        "import matplotlib.pyplot as plt"
      ]
    },
    {
      "cell_type": "code",
      "execution_count": 68,
      "metadata": {
        "colab": {
          "base_uri": "https://localhost:8080/",
          "height": 362
        },
        "id": "E56rERUwrZO9",
        "outputId": "169d7284-ec1b-4970-9a16-510f70a58cbd"
      },
      "outputs": [
        {
          "data": {
            "application/vnd.microsoft.datawrangler.viewer.v0+json": {
              "columns": [
                {
                  "name": "index",
                  "rawType": "int64",
                  "type": "integer"
                },
                {
                  "name": "Unnamed: 0",
                  "rawType": "int64",
                  "type": "integer"
                },
                {
                  "name": "reviewerName",
                  "rawType": "object",
                  "type": "string"
                },
                {
                  "name": "overall",
                  "rawType": "float64",
                  "type": "float"
                },
                {
                  "name": "reviewText",
                  "rawType": "object",
                  "type": "string"
                },
                {
                  "name": "reviewTime",
                  "rawType": "object",
                  "type": "string"
                },
                {
                  "name": "day_diff",
                  "rawType": "int64",
                  "type": "integer"
                },
                {
                  "name": "helpful_yes",
                  "rawType": "int64",
                  "type": "integer"
                },
                {
                  "name": "helpful_no",
                  "rawType": "int64",
                  "type": "integer"
                },
                {
                  "name": "total_vote",
                  "rawType": "int64",
                  "type": "integer"
                },
                {
                  "name": "score_pos_neg_diff",
                  "rawType": "int64",
                  "type": "integer"
                },
                {
                  "name": "score_average_rating",
                  "rawType": "float64",
                  "type": "float"
                },
                {
                  "name": "wilson_lower_bound",
                  "rawType": "float64",
                  "type": "float"
                }
              ],
              "conversionMethod": "pd.DataFrame",
              "ref": "a898719f-4287-4922-9d43-3d9ed3b4da16",
              "rows": [
                [
                  "2388",
                  "2388",
                  "Joey Joe Joe Jr. Shabadoo",
                  "5.0",
                  "I have no complaints. I wanted a good class-10 microsdhc card, and this does the job. It has no difficulty keeping up with recordings, photos, music, downloads, etc. Finally, a microsd card that doesn't bottleneck my download speed!",
                  "2014-03-17",
                  "266",
                  "0",
                  "0",
                  "0",
                  "0",
                  "0.0",
                  "0.0"
                ],
                [
                  "3374",
                  "3374",
                  "Natasha S.",
                  "5.0",
                  "No issues at all. I ended up utttingthis in my Samsung Galaxy S3 instead of my Tab2 like I had originally planned. I will be ordering another one soon.",
                  "2013-04-29",
                  "588",
                  "0",
                  "0",
                  "0",
                  "0",
                  "0.0",
                  "0.0"
                ],
                [
                  "4776",
                  "4776",
                  "WellHurfMyDurf",
                  "5.0",
                  "Now I have a lot more room on my phone. It can be overkill for some but extra space is only wasted if you never use it.",
                  "2013-08-09",
                  "486",
                  "0",
                  "0",
                  "0",
                  "0",
                  "0.0",
                  "0.0"
                ],
                [
                  "1549",
                  "1549",
                  "Elle",
                  "5.0",
                  "I got this item for my dash cam which is in my convertible. The dash cam is recording at all times when I am driving my car so I needed a lot of memory. This card does the job for me and this brand name is fantastic, no problems, and works as it ought to!",
                  "2014-06-05",
                  "186",
                  "0",
                  "0",
                  "0",
                  "0",
                  "0.0",
                  "0.0"
                ],
                [
                  "1750",
                  "1750",
                  "Gatorfan66",
                  "5.0",
                  "Fast as it gets. Even in my phone this thing rocks! In a camera you can almost slow down time itself.",
                  "2013-04-07",
                  "610",
                  "0",
                  "0",
                  "0",
                  "0",
                  "0.0",
                  "0.0"
                ],
                [
                  "4077",
                  "4077",
                  "S. Chari",
                  "5.0",
                  "Super fast, works great on my Samsung S4. Had to make a few config changes on the S4 but that's not the card's problem :)",
                  "2013-10-20",
                  "414",
                  "0",
                  "0",
                  "0",
                  "0",
                  "0.0",
                  "0.0"
                ],
                [
                  "1709",
                  "1709",
                  "g0estoeleven",
                  "3.0",
                  "This card does exactly what it should.  Class-10 performance at a fair price in a MicroSD format.  It should be faster though, and in fact there are options out there now at a nominally higher price that do, including the &#34;extreme&#34; versions from the same vendor.",
                  "2013-03-08",
                  "640",
                  "0",
                  "0",
                  "0",
                  "0",
                  "0.0",
                  "0.0"
                ],
                [
                  "2797",
                  "2797",
                  "Laye Ma",
                  "5.0",
                  "SanDisk is well know brand. The MSD Ultra 64 GB class 10 is the good one to buy.It transfers file faster than other brand card. I bought two of them when they are on sell.The price is very reasonable. I like it very much.",
                  "2014-03-18",
                  "265",
                  "0",
                  "0",
                  "0",
                  "0",
                  "0.0",
                  "0.0"
                ],
                [
                  "3167",
                  "3167",
                  "Michael Laliberte",
                  "5.0",
                  "I use this in my GoPro Hero 3 Silver. Works great had no problems and the data transfer is very quick.",
                  "2013-06-06",
                  "550",
                  "0",
                  "0",
                  "0",
                  "0",
                  "0.0",
                  "0.0"
                ],
                [
                  "359",
                  "359",
                  "Amazon User",
                  "5.0",
                  "I originally bought a Samsung equivalent and then my phone was stolen, so I made the switch.  I have done some research and realized the class 10 and the SDXC are very important as it is the quickest rate of transfer.  However when you read Samsung's description and this one, Samsung claims 80 mbps and SanDisk has 30 mbps, after using both they are identical.  The class and the sdxc are the most important, they are almost absolutely identical.  Samsung's equivalent is $65 and this was under $50.  I haven't noticed a bit of difference, besides that maybe this mircosd card is a bit quicker and easier to move files around.  I store a lot on my phone, which is a Samsung Note 3, this works beautifully.",
                  "2014-01-22",
                  "320",
                  "0",
                  "0",
                  "0",
                  "0",
                  "0.0",
                  "0.0"
                ]
              ],
              "shape": {
                "columns": 12,
                "rows": 10
              }
            },
            "text/html": [
              "<div>\n",
              "<style scoped>\n",
              "    .dataframe tbody tr th:only-of-type {\n",
              "        vertical-align: middle;\n",
              "    }\n",
              "\n",
              "    .dataframe tbody tr th {\n",
              "        vertical-align: top;\n",
              "    }\n",
              "\n",
              "    .dataframe thead th {\n",
              "        text-align: right;\n",
              "    }\n",
              "</style>\n",
              "<table border=\"1\" class=\"dataframe\">\n",
              "  <thead>\n",
              "    <tr style=\"text-align: right;\">\n",
              "      <th></th>\n",
              "      <th>Unnamed: 0</th>\n",
              "      <th>reviewerName</th>\n",
              "      <th>overall</th>\n",
              "      <th>reviewText</th>\n",
              "      <th>reviewTime</th>\n",
              "      <th>day_diff</th>\n",
              "      <th>helpful_yes</th>\n",
              "      <th>helpful_no</th>\n",
              "      <th>total_vote</th>\n",
              "      <th>score_pos_neg_diff</th>\n",
              "      <th>score_average_rating</th>\n",
              "      <th>wilson_lower_bound</th>\n",
              "    </tr>\n",
              "  </thead>\n",
              "  <tbody>\n",
              "    <tr>\n",
              "      <th>2388</th>\n",
              "      <td>2388</td>\n",
              "      <td>Joey Joe Joe Jr. Shabadoo</td>\n",
              "      <td>5.0</td>\n",
              "      <td>I have no complaints. I wanted a good class-10...</td>\n",
              "      <td>2014-03-17</td>\n",
              "      <td>266</td>\n",
              "      <td>0</td>\n",
              "      <td>0</td>\n",
              "      <td>0</td>\n",
              "      <td>0</td>\n",
              "      <td>0.0</td>\n",
              "      <td>0.0</td>\n",
              "    </tr>\n",
              "    <tr>\n",
              "      <th>3374</th>\n",
              "      <td>3374</td>\n",
              "      <td>Natasha S.</td>\n",
              "      <td>5.0</td>\n",
              "      <td>No issues at all. I ended up utttingthis in my...</td>\n",
              "      <td>2013-04-29</td>\n",
              "      <td>588</td>\n",
              "      <td>0</td>\n",
              "      <td>0</td>\n",
              "      <td>0</td>\n",
              "      <td>0</td>\n",
              "      <td>0.0</td>\n",
              "      <td>0.0</td>\n",
              "    </tr>\n",
              "    <tr>\n",
              "      <th>4776</th>\n",
              "      <td>4776</td>\n",
              "      <td>WellHurfMyDurf</td>\n",
              "      <td>5.0</td>\n",
              "      <td>Now I have a lot more room on my phone. It can...</td>\n",
              "      <td>2013-08-09</td>\n",
              "      <td>486</td>\n",
              "      <td>0</td>\n",
              "      <td>0</td>\n",
              "      <td>0</td>\n",
              "      <td>0</td>\n",
              "      <td>0.0</td>\n",
              "      <td>0.0</td>\n",
              "    </tr>\n",
              "    <tr>\n",
              "      <th>1549</th>\n",
              "      <td>1549</td>\n",
              "      <td>Elle</td>\n",
              "      <td>5.0</td>\n",
              "      <td>I got this item for my dash cam which is in my...</td>\n",
              "      <td>2014-06-05</td>\n",
              "      <td>186</td>\n",
              "      <td>0</td>\n",
              "      <td>0</td>\n",
              "      <td>0</td>\n",
              "      <td>0</td>\n",
              "      <td>0.0</td>\n",
              "      <td>0.0</td>\n",
              "    </tr>\n",
              "    <tr>\n",
              "      <th>1750</th>\n",
              "      <td>1750</td>\n",
              "      <td>Gatorfan66</td>\n",
              "      <td>5.0</td>\n",
              "      <td>Fast as it gets. Even in my phone this thing r...</td>\n",
              "      <td>2013-04-07</td>\n",
              "      <td>610</td>\n",
              "      <td>0</td>\n",
              "      <td>0</td>\n",
              "      <td>0</td>\n",
              "      <td>0</td>\n",
              "      <td>0.0</td>\n",
              "      <td>0.0</td>\n",
              "    </tr>\n",
              "    <tr>\n",
              "      <th>4077</th>\n",
              "      <td>4077</td>\n",
              "      <td>S. Chari</td>\n",
              "      <td>5.0</td>\n",
              "      <td>Super fast, works great on my Samsung S4. Had ...</td>\n",
              "      <td>2013-10-20</td>\n",
              "      <td>414</td>\n",
              "      <td>0</td>\n",
              "      <td>0</td>\n",
              "      <td>0</td>\n",
              "      <td>0</td>\n",
              "      <td>0.0</td>\n",
              "      <td>0.0</td>\n",
              "    </tr>\n",
              "    <tr>\n",
              "      <th>1709</th>\n",
              "      <td>1709</td>\n",
              "      <td>g0estoeleven</td>\n",
              "      <td>3.0</td>\n",
              "      <td>This card does exactly what it should.  Class-...</td>\n",
              "      <td>2013-03-08</td>\n",
              "      <td>640</td>\n",
              "      <td>0</td>\n",
              "      <td>0</td>\n",
              "      <td>0</td>\n",
              "      <td>0</td>\n",
              "      <td>0.0</td>\n",
              "      <td>0.0</td>\n",
              "    </tr>\n",
              "    <tr>\n",
              "      <th>2797</th>\n",
              "      <td>2797</td>\n",
              "      <td>Laye Ma</td>\n",
              "      <td>5.0</td>\n",
              "      <td>SanDisk is well know brand. The MSD Ultra 64 G...</td>\n",
              "      <td>2014-03-18</td>\n",
              "      <td>265</td>\n",
              "      <td>0</td>\n",
              "      <td>0</td>\n",
              "      <td>0</td>\n",
              "      <td>0</td>\n",
              "      <td>0.0</td>\n",
              "      <td>0.0</td>\n",
              "    </tr>\n",
              "    <tr>\n",
              "      <th>3167</th>\n",
              "      <td>3167</td>\n",
              "      <td>Michael Laliberte</td>\n",
              "      <td>5.0</td>\n",
              "      <td>I use this in my GoPro Hero 3 Silver. Works gr...</td>\n",
              "      <td>2013-06-06</td>\n",
              "      <td>550</td>\n",
              "      <td>0</td>\n",
              "      <td>0</td>\n",
              "      <td>0</td>\n",
              "      <td>0</td>\n",
              "      <td>0.0</td>\n",
              "      <td>0.0</td>\n",
              "    </tr>\n",
              "    <tr>\n",
              "      <th>359</th>\n",
              "      <td>359</td>\n",
              "      <td>Amazon User</td>\n",
              "      <td>5.0</td>\n",
              "      <td>I originally bought a Samsung equivalent and t...</td>\n",
              "      <td>2014-01-22</td>\n",
              "      <td>320</td>\n",
              "      <td>0</td>\n",
              "      <td>0</td>\n",
              "      <td>0</td>\n",
              "      <td>0</td>\n",
              "      <td>0.0</td>\n",
              "      <td>0.0</td>\n",
              "    </tr>\n",
              "  </tbody>\n",
              "</table>\n",
              "</div>"
            ],
            "text/plain": [
              "      Unnamed: 0               reviewerName  overall  \\\n",
              "2388        2388  Joey Joe Joe Jr. Shabadoo      5.0   \n",
              "3374        3374                 Natasha S.      5.0   \n",
              "4776        4776             WellHurfMyDurf      5.0   \n",
              "1549        1549                       Elle      5.0   \n",
              "1750        1750                 Gatorfan66      5.0   \n",
              "4077        4077                   S. Chari      5.0   \n",
              "1709        1709               g0estoeleven      3.0   \n",
              "2797        2797                    Laye Ma      5.0   \n",
              "3167        3167          Michael Laliberte      5.0   \n",
              "359          359                Amazon User      5.0   \n",
              "\n",
              "                                             reviewText  reviewTime  day_diff  \\\n",
              "2388  I have no complaints. I wanted a good class-10...  2014-03-17       266   \n",
              "3374  No issues at all. I ended up utttingthis in my...  2013-04-29       588   \n",
              "4776  Now I have a lot more room on my phone. It can...  2013-08-09       486   \n",
              "1549  I got this item for my dash cam which is in my...  2014-06-05       186   \n",
              "1750  Fast as it gets. Even in my phone this thing r...  2013-04-07       610   \n",
              "4077  Super fast, works great on my Samsung S4. Had ...  2013-10-20       414   \n",
              "1709  This card does exactly what it should.  Class-...  2013-03-08       640   \n",
              "2797  SanDisk is well know brand. The MSD Ultra 64 G...  2014-03-18       265   \n",
              "3167  I use this in my GoPro Hero 3 Silver. Works gr...  2013-06-06       550   \n",
              "359   I originally bought a Samsung equivalent and t...  2014-01-22       320   \n",
              "\n",
              "      helpful_yes  helpful_no  total_vote  score_pos_neg_diff  \\\n",
              "2388            0           0           0                   0   \n",
              "3374            0           0           0                   0   \n",
              "4776            0           0           0                   0   \n",
              "1549            0           0           0                   0   \n",
              "1750            0           0           0                   0   \n",
              "4077            0           0           0                   0   \n",
              "1709            0           0           0                   0   \n",
              "2797            0           0           0                   0   \n",
              "3167            0           0           0                   0   \n",
              "359             0           0           0                   0   \n",
              "\n",
              "      score_average_rating  wilson_lower_bound  \n",
              "2388                   0.0                 0.0  \n",
              "3374                   0.0                 0.0  \n",
              "4776                   0.0                 0.0  \n",
              "1549                   0.0                 0.0  \n",
              "1750                   0.0                 0.0  \n",
              "4077                   0.0                 0.0  \n",
              "1709                   0.0                 0.0  \n",
              "2797                   0.0                 0.0  \n",
              "3167                   0.0                 0.0  \n",
              "359                    0.0                 0.0  "
            ]
          },
          "execution_count": 68,
          "metadata": {},
          "output_type": "execute_result"
        }
      ],
      "source": [
        "df = pd.read_csv('../data/amazon_reviews.csv')\n",
        "df.sample(10)"
      ]
    },
    {
      "cell_type": "code",
      "execution_count": 70,
      "metadata": {
        "colab": {
          "base_uri": "https://localhost:8080/"
        },
        "id": "vw4EOJIArZPE",
        "outputId": "4c08fe66-343b-4f59-e7a5-6caec3e596e7"
      },
      "outputs": [
        {
          "data": {
            "text/plain": [
              "overall\n",
              "5.0    3922\n",
              "4.0     527\n",
              "1.0     244\n",
              "3.0     142\n",
              "2.0      80\n",
              "Name: count, dtype: int64"
            ]
          },
          "execution_count": 70,
          "metadata": {},
          "output_type": "execute_result"
        }
      ],
      "source": [
        "df['overall'].value_counts()"
      ]
    },
    {
      "cell_type": "code",
      "execution_count": 76,
      "metadata": {},
      "outputs": [
        {
          "name": "stdout",
          "output_type": "stream",
          "text": [
            "(4915, 12)\n",
            "(500, 12)\n"
          ]
        },
        {
          "data": {
            "application/vnd.microsoft.datawrangler.viewer.v0+json": {
              "columns": [
                {
                  "name": "index",
                  "rawType": "int64",
                  "type": "integer"
                },
                {
                  "name": "Unnamed: 0",
                  "rawType": "int64",
                  "type": "integer"
                },
                {
                  "name": "reviewerName",
                  "rawType": "object",
                  "type": "unknown"
                },
                {
                  "name": "overall",
                  "rawType": "float64",
                  "type": "float"
                },
                {
                  "name": "reviewText",
                  "rawType": "object",
                  "type": "string"
                },
                {
                  "name": "reviewTime",
                  "rawType": "object",
                  "type": "string"
                },
                {
                  "name": "day_diff",
                  "rawType": "int64",
                  "type": "integer"
                },
                {
                  "name": "helpful_yes",
                  "rawType": "int64",
                  "type": "integer"
                },
                {
                  "name": "helpful_no",
                  "rawType": "int64",
                  "type": "integer"
                },
                {
                  "name": "total_vote",
                  "rawType": "int64",
                  "type": "integer"
                },
                {
                  "name": "score_pos_neg_diff",
                  "rawType": "int64",
                  "type": "integer"
                },
                {
                  "name": "score_average_rating",
                  "rawType": "float64",
                  "type": "float"
                },
                {
                  "name": "wilson_lower_bound",
                  "rawType": "float64",
                  "type": "float"
                }
              ],
              "conversionMethod": "pd.DataFrame",
              "ref": "9384c33a-d675-4e41-8de1-e0eacb190fff",
              "rows": [
                [
                  "0",
                  "0",
                  null,
                  "4.0",
                  "No issues.",
                  "2014-07-23",
                  "138",
                  "0",
                  "0",
                  "0",
                  "0",
                  "0.0",
                  "0.0"
                ],
                [
                  "1",
                  "1",
                  "0mie",
                  "5.0",
                  "Purchased this for my device, it worked as advertised. You can never have too much phone memory, since I download a lot of stuff this was a no brainer for me.",
                  "2013-10-25",
                  "409",
                  "0",
                  "0",
                  "0",
                  "0",
                  "0.0",
                  "0.0"
                ],
                [
                  "2",
                  "2",
                  "1K3",
                  "4.0",
                  "it works as expected. I should have sprung for the higher capacity.  I think its made a bit cheesier than the earlier versions; the paint looks not as clean as before",
                  "2012-12-23",
                  "715",
                  "0",
                  "0",
                  "0",
                  "0",
                  "0.0",
                  "0.0"
                ]
              ],
              "shape": {
                "columns": 12,
                "rows": 3
              }
            },
            "text/html": [
              "<div>\n",
              "<style scoped>\n",
              "    .dataframe tbody tr th:only-of-type {\n",
              "        vertical-align: middle;\n",
              "    }\n",
              "\n",
              "    .dataframe tbody tr th {\n",
              "        vertical-align: top;\n",
              "    }\n",
              "\n",
              "    .dataframe thead th {\n",
              "        text-align: right;\n",
              "    }\n",
              "</style>\n",
              "<table border=\"1\" class=\"dataframe\">\n",
              "  <thead>\n",
              "    <tr style=\"text-align: right;\">\n",
              "      <th></th>\n",
              "      <th>Unnamed: 0</th>\n",
              "      <th>reviewerName</th>\n",
              "      <th>overall</th>\n",
              "      <th>reviewText</th>\n",
              "      <th>reviewTime</th>\n",
              "      <th>day_diff</th>\n",
              "      <th>helpful_yes</th>\n",
              "      <th>helpful_no</th>\n",
              "      <th>total_vote</th>\n",
              "      <th>score_pos_neg_diff</th>\n",
              "      <th>score_average_rating</th>\n",
              "      <th>wilson_lower_bound</th>\n",
              "    </tr>\n",
              "  </thead>\n",
              "  <tbody>\n",
              "    <tr>\n",
              "      <th>0</th>\n",
              "      <td>0</td>\n",
              "      <td>NaN</td>\n",
              "      <td>4.0</td>\n",
              "      <td>No issues.</td>\n",
              "      <td>2014-07-23</td>\n",
              "      <td>138</td>\n",
              "      <td>0</td>\n",
              "      <td>0</td>\n",
              "      <td>0</td>\n",
              "      <td>0</td>\n",
              "      <td>0.0</td>\n",
              "      <td>0.0</td>\n",
              "    </tr>\n",
              "    <tr>\n",
              "      <th>1</th>\n",
              "      <td>1</td>\n",
              "      <td>0mie</td>\n",
              "      <td>5.0</td>\n",
              "      <td>Purchased this for my device, it worked as adv...</td>\n",
              "      <td>2013-10-25</td>\n",
              "      <td>409</td>\n",
              "      <td>0</td>\n",
              "      <td>0</td>\n",
              "      <td>0</td>\n",
              "      <td>0</td>\n",
              "      <td>0.0</td>\n",
              "      <td>0.0</td>\n",
              "    </tr>\n",
              "    <tr>\n",
              "      <th>2</th>\n",
              "      <td>2</td>\n",
              "      <td>1K3</td>\n",
              "      <td>4.0</td>\n",
              "      <td>it works as expected. I should have sprung for...</td>\n",
              "      <td>2012-12-23</td>\n",
              "      <td>715</td>\n",
              "      <td>0</td>\n",
              "      <td>0</td>\n",
              "      <td>0</td>\n",
              "      <td>0</td>\n",
              "      <td>0.0</td>\n",
              "      <td>0.0</td>\n",
              "    </tr>\n",
              "  </tbody>\n",
              "</table>\n",
              "</div>"
            ],
            "text/plain": [
              "   Unnamed: 0 reviewerName  overall  \\\n",
              "0           0          NaN      4.0   \n",
              "1           1         0mie      5.0   \n",
              "2           2          1K3      4.0   \n",
              "\n",
              "                                          reviewText  reviewTime  day_diff  \\\n",
              "0                                         No issues.  2014-07-23       138   \n",
              "1  Purchased this for my device, it worked as adv...  2013-10-25       409   \n",
              "2  it works as expected. I should have sprung for...  2012-12-23       715   \n",
              "\n",
              "   helpful_yes  helpful_no  total_vote  score_pos_neg_diff  \\\n",
              "0            0           0           0                   0   \n",
              "1            0           0           0                   0   \n",
              "2            0           0           0                   0   \n",
              "\n",
              "   score_average_rating  wilson_lower_bound  \n",
              "0                   0.0                 0.0  \n",
              "1                   0.0                 0.0  \n",
              "2                   0.0                 0.0  "
            ]
          },
          "execution_count": 76,
          "metadata": {},
          "output_type": "execute_result"
        }
      ],
      "source": [
        "print(df.shape)\n",
        "df = df.head(500)\n",
        "print(df.shape)\n",
        "df.head(3)"
      ]
    },
    {
      "cell_type": "code",
      "execution_count": 78,
      "metadata": {},
      "outputs": [
        {
          "data": {
            "image/png": "[encoded data removed]",
            "text/plain": [
              "<Figure size 640x480 with 1 Axes>"
            ]
          },
          "metadata": {},
          "output_type": "display_data"
        }
      ],
      "source": [
        "ax = df['overall'].value_counts().sort_index().plot(kind='bar', title='count of reviews by stars')\n",
        "ax.set_xlabel('review stars')\n",
        "plt.show()"
      ]
    },
    {
      "cell_type": "code",
      "execution_count": 85,
      "metadata": {},
      "outputs": [
        {
          "name": "stdout",
          "output_type": "stream",
          "text": [
            "Collecting transformers\n",
            "  Using cached transformers-4.49.0-py3-none-any.whl.metadata (44 kB)\n",
            "Requirement already satisfied: filelock in /opt/homebrew/anaconda3/lib/python3.11/site-packages (from transformers) (3.13.1)\n",
            "Requirement already satisfied: huggingface-hub<1.0,>=0.26.0 in /opt/homebrew/anaconda3/lib/python3.11/site-packages (from transformers) (0.29.1)\n",
            "Requirement already satisfied: numpy>=1.17 in /opt/homebrew/anaconda3/lib/python3.11/site-packages (from transformers) (1.26.4)\n",
            "Requirement already satisfied: packaging>=20.0 in /opt/homebrew/anaconda3/lib/python3.11/site-packages (from transformers) (23.1)\n",
            "Requirement already satisfied: pyyaml>=5.1 in /opt/homebrew/anaconda3/lib/python3.11/site-packages (from transformers) (6.0.1)\n",
            "Requirement already satisfied: regex!=2019.12.17 in /opt/homebrew/anaconda3/lib/python3.11/site-packages (from transformers) (2023.10.3)\n",
            "Requirement already satisfied: requests in /opt/homebrew/anaconda3/lib/python3.11/site-packages (from transformers) (2.32.3)\n",
            "Collecting tokenizers<0.22,>=0.21 (from transformers)\n",
            "  Using cached tokenizers-0.21.0-cp39-abi3-macosx_11_0_arm64.whl.metadata (6.7 kB)\n",
            "Collecting safetensors>=0.4.1 (from transformers)\n",
            "  Downloading safetensors-0.5.3-cp38-abi3-macosx_11_0_arm64.whl.metadata (3.8 kB)\n",
            "Requirement already satisfied: tqdm>=4.27 in /opt/homebrew/anaconda3/lib/python3.11/site-packages (from transformers) (4.67.1)\n",
            "Requirement already satisfied: fsspec>=2023.5.0 in /opt/homebrew/anaconda3/lib/python3.11/site-packages (from huggingface-hub<1.0,>=0.26.0->transformers) (2023.10.0)\n",
            "Requirement already satisfied: typing-extensions>=3.7.4.3 in /opt/homebrew/anaconda3/lib/python3.11/site-packages (from huggingface-hub<1.0,>=0.26.0->transformers) (4.9.0)\n",
            "Requirement already satisfied: charset-normalizer<4,>=2 in /opt/homebrew/anaconda3/lib/python3.11/site-packages (from requests->transformers) (2.0.4)\n",
            "Requirement already satisfied: idna<4,>=2.5 in /opt/homebrew/anaconda3/lib/python3.11/site-packages (from requests->transformers) (3.4)\n",
            "Requirement already satisfied: urllib3<3,>=1.21.1 in /opt/homebrew/anaconda3/lib/python3.11/site-packages (from requests->transformers) (2.0.7)\n",
            "Requirement already satisfied: certifi>=2017.4.17 in /opt/homebrew/anaconda3/lib/python3.11/site-packages (from requests->transformers) (2024.2.2)\n",
            "Using cached transformers-4.49.0-py3-none-any.whl (10.0 MB)\n",
            "Downloading safetensors-0.5.3-cp38-abi3-macosx_11_0_arm64.whl (418 kB)\n",
            "\u001b[2K   \u001b[90m━━━━━━━━━━━━━━━━━━━━━━━━━━━━━━━━━━━━━━━━\u001b[0m \u001b[32m418.4/418.4 kB\u001b[0m \u001b[31m3.8 MB/s\u001b[0m eta \u001b[36m0:00:00\u001b[0m00:01\u001b[0m00:01\u001b[0m\n",
            "\u001b[?25hUsing cached tokenizers-0.21.0-cp39-abi3-macosx_11_0_arm64.whl (2.6 MB)\n",
            "Installing collected packages: safetensors, tokenizers, transformers\n",
            "Successfully installed safetensors-0.5.3 tokenizers-0.21.0 transformers-4.49.0\n"
          ]
        }
      ],
      "source": [
        "!pip install transformers"
      ]
    },
    {
      "cell_type": "code",
      "execution_count": 86,
      "metadata": {},
      "outputs": [
        {
          "name": "stderr",
          "output_type": "stream",
          "text": [
            "None of PyTorch, TensorFlow >= 2.0, or Flax have been found. Models won't be available and only tokenizers, configuration and file/data utilities can be used.\n",
            "[nltk_data] Downloading package punkt to /Users/joseperez/nltk_data...\n",
            "[nltk_data]   Package punkt is already up-to-date!\n",
            "[nltk_data] Downloading package averaged_perceptron_tagger to\n",
            "[nltk_data]     /Users/joseperez/nltk_data...\n",
            "[nltk_data]   Package averaged_perceptron_tagger is already up-to-\n",
            "[nltk_data]       date!\n",
            "[nltk_data] Downloading package maxent_ne_chunker to\n",
            "[nltk_data]     /Users/joseperez/nltk_data...\n",
            "[nltk_data]   Package maxent_ne_chunker is already up-to-date!\n",
            "[nltk_data] Downloading package words to /Users/joseperez/nltk_data...\n",
            "[nltk_data]   Package words is already up-to-date!\n",
            "[nltk_data] Downloading package vader_lexicon to\n",
            "[nltk_data]     /Users/joseperez/nltk_data...\n"
          ]
        },
        {
          "data": {
            "text/plain": [
              "True"
            ]
          },
          "execution_count": 86,
          "metadata": {},
          "output_type": "execute_result"
        }
      ],
      "source": [
        "import pandas as pd\n",
        "import numpy as np\n",
        "import matplotlib.pyplot as plt\n",
        "import seaborn as sns\n",
        "import nltk\n",
        "from nltk.sentiment import SentimentIntensityAnalyzer\n",
        "from tqdm.notebook import tqdm\n",
        "from transformers import AutoTokenizer, AutoModelForSequenceClassification\n",
        "from scipy.special import softmax\n",
        "\n",
        "plt.style.use('ggplot')\n",
        "\n",
        "nltk.download('punkt')\n",
        "nltk.download('averaged_perceptron_tagger')\n",
        "nltk.download('maxent_ne_chunker')\n",
        "nltk.download('words')\n",
        "nltk.download('vader_lexicon')"
      ]
    },
    {
      "cell_type": "code",
      "execution_count": 87,
      "metadata": {},
      "outputs": [
        {
          "name": "stdout",
          "output_type": "stream",
          "text": [
            "A memory card either works or it doesn't. This was always going to be a one star or five star review - no middle ground.The adapter is a nice bonus too, though I don't think I have anything to use it with.\n"
          ]
        }
      ],
      "source": [
        "example = df['reviewText'][50]\n",
        "print(example)\n",
        "\n",
        "tokens = nltk.word_tokenize(example)\n",
        "tagged = nltk.pos_tag(tokens)\n",
        "entities = nltk.chunk.ne_chunk(tagged)"
      ]
    },
    {
      "cell_type": "code",
      "execution_count": 88,
      "metadata": {},
      "outputs": [
        {
          "data": {
            "text/plain": [
              "{'neg': 0.053, 'neu': 0.795, 'pos': 0.152, 'compound': 0.6249}"
            ]
          },
          "execution_count": 88,
          "metadata": {},
          "output_type": "execute_result"
        }
      ],
      "source": [
        "sia = SentimentIntensityAnalyzer()\n",
        "sia.polarity_scores(example)"
      ]
    },
    {
      "cell_type": "code",
      "execution_count": 92,
      "metadata": {},
      "outputs": [],
      "source": [
        "df = df.rename(columns={'Unnamed: 0': 'id'})  # Rename for clarity"
      ]
    },
    {
      "cell_type": "code",
      "execution_count": 93,
      "metadata": {},
      "outputs": [
        {
          "data": {
            "text/plain": [
              "Index(['id', 'reviewerName', 'overall', 'reviewText', 'reviewTime', 'day_diff',\n",
              "       'helpful_yes', 'helpful_no', 'total_vote', 'score_pos_neg_diff',\n",
              "       'score_average_rating', 'wilson_lower_bound'],\n",
              "      dtype='object')"
            ]
          },
          "execution_count": 93,
          "metadata": {},
          "output_type": "execute_result"
        }
      ],
      "source": [
        "df.columns"
      ]
    },
    {
      "cell_type": "code",
      "execution_count": 97,
      "metadata": {},
      "outputs": [
        {
          "name": "stderr",
          "output_type": "stream",
          "text": [
            "100%|██████████| 500/500 [00:00<00:00, 3790.21it/s]"
          ]
        },
        {
          "name": "stdout",
          "output_type": "stream",
          "text": [
            "Successfully recreated vaders DataFrame!\n"
          ]
        },
        {
          "name": "stderr",
          "output_type": "stream",
          "text": [
            "\n"
          ]
        }
      ],
      "source": [
        "import pandas as pd\n",
        "from tqdm import tqdm\n",
        "from nltk.sentiment import SentimentIntensityAnalyzer\n",
        "\n",
        "sia = SentimentIntensityAnalyzer()\n",
        "\n",
        "res = {}\n",
        "for i, row in tqdm(df.iterrows(), total=len(df)):\n",
        "    text = row['reviewText']\n",
        "    if not isinstance(text, str):  # Ensure text is a string\n",
        "        text = \"\"\n",
        "    myid = row['id']\n",
        "    res[myid] = sia.polarity_scores(text)\n",
        "\n",
        "vaders = pd.DataFrame(res).T\n",
        "vaders = vaders.reset_index().rename(columns={'index': \"id\"})\n",
        "\n",
        "# Merge sentiment scores with original dataframe\n",
        "vaders = vaders.merge(df, how='left', on='id')\n",
        "\n",
        "print(\"Successfully recreated vaders DataFrame!\")"
      ]
    },
    {
      "cell_type": "code",
      "execution_count": 99,
      "metadata": {},
      "outputs": [
        {
          "data": {
            "image/png": "[encoded data removed]",
            "text/plain": [
              "<Figure size 640x480 with 1 Axes>"
            ]
          },
          "metadata": {},
          "output_type": "display_data"
        }
      ],
      "source": [
        "ax = sns.barplot(data=vaders, x='overall', y='compound')\n",
        "ax.set_title('Compound Score by Amazon Star Review')\n",
        "plt.show()"
      ]
    }
  ],
  "metadata": {
    "accelerator": "GPU",
    "colab": {
      "name": "Intro_a_NLP.ipynb",
      "provenance": []
    },
    "gpuClass": "standard",
    "kernelspec": {
      "display_name": "base",
      "language": "python",
      "name": "python3"
    },
    "language_info": {
      "codemirror_mode": {
        "name": "ipython",
        "version": 3
      },
      "file_extension": ".py",
      "mimetype": "text/x-python",
      "name": "python",
      "nbconvert_exporter": "python",
      "pygments_lexer": "ipython3",
      "version": "3.11.7"
    }
  },
  "nbformat": 4,
  "nbformat_minor": 0
}
